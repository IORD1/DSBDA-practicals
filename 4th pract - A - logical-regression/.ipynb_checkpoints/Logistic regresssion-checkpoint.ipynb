{
 "cells": [
  {
   "cell_type": "code",
   "execution_count": 1,
   "id": "d9a04fbc",
   "metadata": {},
   "outputs": [],
   "source": [
    "import pandas as pd"
   ]
  },
  {
   "cell_type": "code",
   "execution_count": 7,
   "id": "bc855b45",
   "metadata": {},
   "outputs": [
    {
     "data": {
      "text/html": [
       "<div>\n",
       "<style scoped>\n",
       "    .dataframe tbody tr th:only-of-type {\n",
       "        vertical-align: middle;\n",
       "    }\n",
       "\n",
       "    .dataframe tbody tr th {\n",
       "        vertical-align: top;\n",
       "    }\n",
       "\n",
       "    .dataframe thead th {\n",
       "        text-align: right;\n",
       "    }\n",
       "</style>\n",
       "<table border=\"1\" class=\"dataframe\">\n",
       "  <thead>\n",
       "    <tr style=\"text-align: right;\">\n",
       "      <th></th>\n",
       "      <th>User ID</th>\n",
       "      <th>Gender</th>\n",
       "      <th>Age</th>\n",
       "      <th>EstimatedSalary</th>\n",
       "      <th>Purchased</th>\n",
       "    </tr>\n",
       "  </thead>\n",
       "  <tbody>\n",
       "    <tr>\n",
       "      <th>0</th>\n",
       "      <td>15624510</td>\n",
       "      <td>Male</td>\n",
       "      <td>19.0</td>\n",
       "      <td>19000.0</td>\n",
       "      <td>0</td>\n",
       "    </tr>\n",
       "    <tr>\n",
       "      <th>1</th>\n",
       "      <td>15810944</td>\n",
       "      <td>Male</td>\n",
       "      <td>35.0</td>\n",
       "      <td>20000.0</td>\n",
       "      <td>0</td>\n",
       "    </tr>\n",
       "    <tr>\n",
       "      <th>2</th>\n",
       "      <td>15668575</td>\n",
       "      <td>Female</td>\n",
       "      <td>26.0</td>\n",
       "      <td>43000.0</td>\n",
       "      <td>0</td>\n",
       "    </tr>\n",
       "    <tr>\n",
       "      <th>3</th>\n",
       "      <td>15603246</td>\n",
       "      <td>Female</td>\n",
       "      <td>27.0</td>\n",
       "      <td>57000.0</td>\n",
       "      <td>0</td>\n",
       "    </tr>\n",
       "    <tr>\n",
       "      <th>4</th>\n",
       "      <td>15804002</td>\n",
       "      <td>Male</td>\n",
       "      <td>19.0</td>\n",
       "      <td>76000.0</td>\n",
       "      <td>0</td>\n",
       "    </tr>\n",
       "    <tr>\n",
       "      <th>...</th>\n",
       "      <td>...</td>\n",
       "      <td>...</td>\n",
       "      <td>...</td>\n",
       "      <td>...</td>\n",
       "      <td>...</td>\n",
       "    </tr>\n",
       "    <tr>\n",
       "      <th>395</th>\n",
       "      <td>15691863</td>\n",
       "      <td>Female</td>\n",
       "      <td>46.0</td>\n",
       "      <td>41000.0</td>\n",
       "      <td>1</td>\n",
       "    </tr>\n",
       "    <tr>\n",
       "      <th>396</th>\n",
       "      <td>15706071</td>\n",
       "      <td>Male</td>\n",
       "      <td>51.0</td>\n",
       "      <td>23000.0</td>\n",
       "      <td>1</td>\n",
       "    </tr>\n",
       "    <tr>\n",
       "      <th>397</th>\n",
       "      <td>15654296</td>\n",
       "      <td>Female</td>\n",
       "      <td>50.0</td>\n",
       "      <td>20000.0</td>\n",
       "      <td>1</td>\n",
       "    </tr>\n",
       "    <tr>\n",
       "      <th>398</th>\n",
       "      <td>15755018</td>\n",
       "      <td>Male</td>\n",
       "      <td>36.0</td>\n",
       "      <td>33000.0</td>\n",
       "      <td>0</td>\n",
       "    </tr>\n",
       "    <tr>\n",
       "      <th>399</th>\n",
       "      <td>15594041</td>\n",
       "      <td>Female</td>\n",
       "      <td>49.0</td>\n",
       "      <td>36000.0</td>\n",
       "      <td>1</td>\n",
       "    </tr>\n",
       "  </tbody>\n",
       "</table>\n",
       "<p>400 rows × 5 columns</p>\n",
       "</div>"
      ],
      "text/plain": [
       "      User ID  Gender   Age  EstimatedSalary  Purchased\n",
       "0    15624510    Male  19.0          19000.0          0\n",
       "1    15810944    Male  35.0          20000.0          0\n",
       "2    15668575  Female  26.0          43000.0          0\n",
       "3    15603246  Female  27.0          57000.0          0\n",
       "4    15804002    Male  19.0          76000.0          0\n",
       "..        ...     ...   ...              ...        ...\n",
       "395  15691863  Female  46.0          41000.0          1\n",
       "396  15706071    Male  51.0          23000.0          1\n",
       "397  15654296  Female  50.0          20000.0          1\n",
       "398  15755018    Male  36.0          33000.0          0\n",
       "399  15594041  Female  49.0          36000.0          1\n",
       "\n",
       "[400 rows x 5 columns]"
      ]
     },
     "execution_count": 7,
     "metadata": {},
     "output_type": "execute_result"
    }
   ],
   "source": [
    "df = pd.read_csv('Social_Network_Ads.csv')\n",
    "df"
   ]
  },
  {
   "cell_type": "code",
   "execution_count": 15,
   "id": "bd51e3fd",
   "metadata": {},
   "outputs": [],
   "source": [
    "x = df.drop('Purchased', axis=1)\n",
    "y = df['Purchased']\n",
    "x = x.drop(columns = 'Gender')"
   ]
  },
  {
   "cell_type": "code",
   "execution_count": 16,
   "id": "28b3ab1c",
   "metadata": {},
   "outputs": [
    {
     "data": {
      "text/html": [
       "<div>\n",
       "<style scoped>\n",
       "    .dataframe tbody tr th:only-of-type {\n",
       "        vertical-align: middle;\n",
       "    }\n",
       "\n",
       "    .dataframe tbody tr th {\n",
       "        vertical-align: top;\n",
       "    }\n",
       "\n",
       "    .dataframe thead th {\n",
       "        text-align: right;\n",
       "    }\n",
       "</style>\n",
       "<table border=\"1\" class=\"dataframe\">\n",
       "  <thead>\n",
       "    <tr style=\"text-align: right;\">\n",
       "      <th></th>\n",
       "      <th>User ID</th>\n",
       "      <th>Age</th>\n",
       "      <th>EstimatedSalary</th>\n",
       "    </tr>\n",
       "  </thead>\n",
       "  <tbody>\n",
       "    <tr>\n",
       "      <th>0</th>\n",
       "      <td>15624510</td>\n",
       "      <td>19.0</td>\n",
       "      <td>19000.0</td>\n",
       "    </tr>\n",
       "    <tr>\n",
       "      <th>1</th>\n",
       "      <td>15810944</td>\n",
       "      <td>35.0</td>\n",
       "      <td>20000.0</td>\n",
       "    </tr>\n",
       "    <tr>\n",
       "      <th>2</th>\n",
       "      <td>15668575</td>\n",
       "      <td>26.0</td>\n",
       "      <td>43000.0</td>\n",
       "    </tr>\n",
       "    <tr>\n",
       "      <th>3</th>\n",
       "      <td>15603246</td>\n",
       "      <td>27.0</td>\n",
       "      <td>57000.0</td>\n",
       "    </tr>\n",
       "    <tr>\n",
       "      <th>4</th>\n",
       "      <td>15804002</td>\n",
       "      <td>19.0</td>\n",
       "      <td>76000.0</td>\n",
       "    </tr>\n",
       "    <tr>\n",
       "      <th>...</th>\n",
       "      <td>...</td>\n",
       "      <td>...</td>\n",
       "      <td>...</td>\n",
       "    </tr>\n",
       "    <tr>\n",
       "      <th>395</th>\n",
       "      <td>15691863</td>\n",
       "      <td>46.0</td>\n",
       "      <td>41000.0</td>\n",
       "    </tr>\n",
       "    <tr>\n",
       "      <th>396</th>\n",
       "      <td>15706071</td>\n",
       "      <td>51.0</td>\n",
       "      <td>23000.0</td>\n",
       "    </tr>\n",
       "    <tr>\n",
       "      <th>397</th>\n",
       "      <td>15654296</td>\n",
       "      <td>50.0</td>\n",
       "      <td>20000.0</td>\n",
       "    </tr>\n",
       "    <tr>\n",
       "      <th>398</th>\n",
       "      <td>15755018</td>\n",
       "      <td>36.0</td>\n",
       "      <td>33000.0</td>\n",
       "    </tr>\n",
       "    <tr>\n",
       "      <th>399</th>\n",
       "      <td>15594041</td>\n",
       "      <td>49.0</td>\n",
       "      <td>36000.0</td>\n",
       "    </tr>\n",
       "  </tbody>\n",
       "</table>\n",
       "<p>400 rows × 3 columns</p>\n",
       "</div>"
      ],
      "text/plain": [
       "      User ID   Age  EstimatedSalary\n",
       "0    15624510  19.0          19000.0\n",
       "1    15810944  35.0          20000.0\n",
       "2    15668575  26.0          43000.0\n",
       "3    15603246  27.0          57000.0\n",
       "4    15804002  19.0          76000.0\n",
       "..        ...   ...              ...\n",
       "395  15691863  46.0          41000.0\n",
       "396  15706071  51.0          23000.0\n",
       "397  15654296  50.0          20000.0\n",
       "398  15755018  36.0          33000.0\n",
       "399  15594041  49.0          36000.0\n",
       "\n",
       "[400 rows x 3 columns]"
      ]
     },
     "execution_count": 16,
     "metadata": {},
     "output_type": "execute_result"
    }
   ],
   "source": [
    "x"
   ]
  },
  {
   "cell_type": "code",
   "execution_count": 14,
   "id": "a6e2c1a0",
   "metadata": {},
   "outputs": [
    {
     "data": {
      "text/plain": [
       "0      0\n",
       "1      0\n",
       "2      0\n",
       "3      0\n",
       "4      0\n",
       "      ..\n",
       "395    1\n",
       "396    1\n",
       "397    1\n",
       "398    0\n",
       "399    1\n",
       "Name: Purchased, Length: 400, dtype: int64"
      ]
     },
     "execution_count": 14,
     "metadata": {},
     "output_type": "execute_result"
    }
   ],
   "source": [
    "y"
   ]
  },
  {
   "cell_type": "code",
   "execution_count": 20,
   "id": "bfc26318",
   "metadata": {},
   "outputs": [],
   "source": [
    "from sklearn.model_selection import train_test_split"
   ]
  },
  {
   "cell_type": "code",
   "execution_count": 29,
   "id": "629460b1",
   "metadata": {},
   "outputs": [],
   "source": [
    "x_train, x_test, y_train, y_test = train_test_split(x,y,test_size=0.3,random_state=1)"
   ]
  },
  {
   "cell_type": "code",
   "execution_count": 22,
   "id": "6709b20c",
   "metadata": {},
   "outputs": [],
   "source": [
    "from sklearn.linear_model import LogisticRegression"
   ]
  },
  {
   "cell_type": "code",
   "execution_count": 30,
   "id": "7e88bd3f",
   "metadata": {},
   "outputs": [],
   "source": [
    "model1 = LogisticRegression()"
   ]
  },
  {
   "cell_type": "code",
   "execution_count": 32,
   "id": "2fd0f2c1",
   "metadata": {},
   "outputs": [
    {
     "name": "stdout",
     "output_type": "stream",
     "text": [
      "[0 0 1 1 1 0 0 0 0 1 0 0 0 1 0 1 0 0 0 1 0 0 1 0 0 0 0 0 0 1 0 0 0 0 0 0 0\n",
      " 0 0 0 1 1 1 0 0 1 0 1 0 0 0 0 0 0 0 0 0 0 1 1 0 0 1 0 1 1 0 0 1 0 1 0 1 0\n",
      " 0 1 0 0 0 0 0 0 1 0 0 0 0 0 0 0 1 0 0 0 0 0 0 0 0 0 0 0 0 0 0 1 1 0 0 0 0\n",
      " 0 0 0 1 1 0 0 0 0]\n"
     ]
    }
   ],
   "source": [
    "model1.fit(x_train,y_train)\n",
    "pred_y = model1.predict(x_test)\n",
    "print(pred_y)"
   ]
  },
  {
   "cell_type": "code",
   "execution_count": 33,
   "id": "2fe665e7",
   "metadata": {},
   "outputs": [],
   "source": [
    "from sklearn.metrics import accuracy_score"
   ]
  },
  {
   "cell_type": "code",
   "execution_count": 34,
   "id": "18637c8b",
   "metadata": {},
   "outputs": [
    {
     "name": "stdout",
     "output_type": "stream",
     "text": [
      "0.6916666666666667\n"
     ]
    }
   ],
   "source": [
    "acc = accuracy_score(y_test,pred_y)\n",
    "print(acc)"
   ]
  },
  {
   "cell_type": "code",
   "execution_count": 35,
   "id": "d8a4ad71",
   "metadata": {},
   "outputs": [],
   "source": [
    "from sklearn.preprocessing import StandardScaler"
   ]
  },
  {
   "cell_type": "code",
   "execution_count": 36,
   "id": "73f2c4e4",
   "metadata": {},
   "outputs": [
    {
     "data": {
      "text/plain": [
       "array([[ 1.20306256e+00, -9.79100420e-01, -1.11059025e+00],\n",
       "       [-1.11265365e+00, -2.03575335e-01,  5.66967998e-02],\n",
       "       [ 1.66760289e-01,  1.15359356e+00, -1.19813678e+00],\n",
       "       [-4.46333294e-01, -2.03575335e-01,  6.40340327e-01],\n",
       "       [-1.43728045e+00, -9.69406357e-03,  1.73425505e-01],\n",
       "       [ 1.28995413e+00, -4.94397242e-01,  1.39907691e+00],\n",
       "       [ 1.60018861e+00, -1.06634699e-01,  1.73425505e-01],\n",
       "       [ 6.97580525e-01, -1.65768487e+00,  4.94429445e-01],\n",
       "       [-5.94681731e-01,  8.72465721e-02, -5.56128904e-01],\n",
       "       [-1.39920421e+00,  1.15359356e+00, -9.64679373e-01],\n",
       "       [-1.49382959e+00,  2.81127843e-01, -1.18396258e-01],\n",
       "       [ 8.96522658e-01, -9.69406357e-03,  2.31789858e-01],\n",
       "       [-1.15948384e+00,  2.21994056e+00, -6.72857609e-01],\n",
       "       [ 9.15546991e-01,  1.05665293e+00,  2.01190262e+00],\n",
       "       [-1.67650454e+00,  2.81127843e-01,  5.66967998e-02],\n",
       "       [ 4.17109477e-01, -1.06634699e-01, -1.76760611e-01],\n",
       "       [ 1.01019994e+00, -1.07604106e+00,  3.48518563e-01],\n",
       "       [ 1.45728554e+00, -3.97456606e-01, -1.11059025e+00],\n",
       "       [-2.39450570e-01,  3.78068479e-01, -5.26946727e-01],\n",
       "       [-1.35863276e+00,  8.62771657e-01,  1.44243329e-01],\n",
       "       [-9.17654241e-01, -1.85156614e+00,  3.77700740e-01],\n",
       "       [-1.32349288e+00, -9.69406357e-03, -1.05222590e+00],\n",
       "       [-1.67127974e+00, -2.03575335e-01, -4.68582375e-01],\n",
       "       [-1.17364180e+00, -8.82159785e-01, -2.93489316e-01],\n",
       "       [-4.87152894e-01, -9.69406357e-03,  5.66967998e-02],\n",
       "       [ 9.46495996e-01, -1.85156614e+00, -7.31221962e-01],\n",
       "       [-1.04612363e+00,  8.72465721e-02, -2.35124964e-01],\n",
       "       [ 4.38022457e-01, -2.03575335e-01, -1.18396258e-01],\n",
       "       [ 1.64434436e+00, -5.91337878e-01, -8.92140820e-02],\n",
       "       [ 5.28622395e-01,  9.59712293e-01, -1.28568331e+00],\n",
       "       [-5.66338232e-01,  4.75009115e-01,  1.01970862e+00],\n",
       "       [-9.79166250e-01, -1.75462551e+00, -1.46077637e+00],\n",
       "       [ 1.46295148e+00, -1.56074423e+00,  8.58789761e-02],\n",
       "       [ 2.70511830e-01, -8.82159785e-01, -1.08140808e+00],\n",
       "       [ 5.56124962e-01,  1.44441547e+00,  2.36208873e+00],\n",
       "       [-1.48138106e+00,  1.54135611e+00,  1.01970862e+00],\n",
       "       [ 8.46370106e-01, -1.17298169e+00,  3.19336387e-01],\n",
       "       [-3.27706930e-01, -1.07604106e+00,  8.58789761e-02],\n",
       "       [-2.19006305e-01, -1.07604106e+00, -1.57750508e+00],\n",
       "       [ 1.45236403e+00,  2.81127843e-01,  2.12863132e+00],\n",
       "       [ 8.58846208e-01, -2.03575335e-01, -9.06315020e-01],\n",
       "       [ 1.10358460e+00,  1.92911865e+00,  1.54498779e+00],\n",
       "       [-1.62301584e+00,  3.78068479e-01,  5.23611621e-01],\n",
       "       [ 7.01481892e-01, -1.26992233e+00,  5.81975974e-01],\n",
       "       [ 3.83734180e-01, -9.69406357e-03, -4.97764551e-01],\n",
       "       [ 1.06509479e+00, -2.03575335e-01,  1.13643732e+00],\n",
       "       [ 6.71939034e-01, -4.94397242e-01,  9.02979914e-01],\n",
       "       [ 1.36086802e+00, -2.03575335e-01,  2.27454220e+00],\n",
       "       [-4.61414902e-01, -1.75462551e+00, -1.25650114e+00],\n",
       "       [-1.07060712e+00,  8.62771657e-01,  3.77700740e-01],\n",
       "       [ 4.73824045e-01,  9.59712293e-01,  1.04889080e+00],\n",
       "       [ 7.31355609e-01,  7.65831022e-01, -7.02039785e-01],\n",
       "       [-3.13409140e-02,  8.72465721e-02, -5.26946727e-01],\n",
       "       [ 5.32454833e-01, -9.69406357e-03,  6.98704680e-01],\n",
       "       [ 1.15860352e+00, -7.85219149e-01, -7.60404138e-01],\n",
       "       [ 7.38813698e-01,  3.78068479e-01, -1.13977243e+00],\n",
       "       [-1.34366143e+00,  2.81127843e-01, -2.64307140e-01],\n",
       "       [ 9.75363353e-01, -9.79100420e-01,  5.52793798e-01],\n",
       "       [ 4.04206017e-01, -9.79100420e-01,  6.11158150e-01],\n",
       "       [-4.15246432e-01,  1.84187208e-01,  5.66967998e-02],\n",
       "       [-1.11826445e+00, -1.36686296e+00, -1.19813678e+00],\n",
       "       [ 3.65647279e-01,  1.34747484e+00,  2.24536003e+00],\n",
       "       [-1.62025869e+00, -1.36686296e+00, -1.76760611e-01],\n",
       "       [ 1.35586379e+00, -9.69406357e-03,  3.19336387e-01],\n",
       "       [-1.24361826e+00,  2.81127843e-01, -6.43675433e-01],\n",
       "       [-1.02641001e+00,  1.05665293e+00, -1.16895461e+00],\n",
       "       [-1.08084993e+00, -2.03575335e-01, -2.93489316e-01],\n",
       "       [ 9.24576656e-01, -1.07604106e+00, -1.13977243e+00],\n",
       "       [-1.46250837e+00,  1.84187208e-01,  1.07807297e+00],\n",
       "       [ 2.75764200e-01, -8.82159785e-01,  4.36065092e-01],\n",
       "       [-1.01537944e-01,  2.12299992e+00,  2.02607682e-01],\n",
       "       [-4.82451954e-01,  2.81127843e-01, -3.51853669e-01],\n",
       "       [ 7.93570690e-01, -2.03575335e-01,  8.15433385e-01],\n",
       "       [ 3.50234812e-01, -1.07604106e+00,  4.94429445e-01],\n",
       "       [ 2.92858528e-01,  3.78068479e-01, -1.76760611e-01],\n",
       "       [-1.59578898e+00, -7.85219149e-01, -6.43675433e-01],\n",
       "       [-5.57143138e-01, -1.07604106e+00, -1.51914072e+00],\n",
       "       [ 7.42273921e-01,  2.02605929e+00, -1.34404767e+00],\n",
       "       [ 1.42160802e+00, -6.88278513e-01, -2.05942787e-01],\n",
       "       [-1.30912813e+00, -1.17298169e+00, -1.05222590e+00],\n",
       "       [ 1.54383247e+00,  2.12299992e+00, -1.16895461e+00],\n",
       "       [ 8.44826103e-01, -8.82159785e-01, -9.35497196e-01],\n",
       "       [-1.60363307e+00,  1.84187208e-01,  2.31789858e-01],\n",
       "       [-7.71470167e-01,  9.59712293e-01,  1.10725515e+00],\n",
       "       [ 1.09368643e+00,  1.44441547e+00,  2.01190262e+00],\n",
       "       [ 6.75385471e-01, -7.85219149e-01, -7.60404138e-01],\n",
       "       [ 4.62051016e-01, -9.79100420e-01,  1.98272044e+00],\n",
       "       [-6.39678413e-01, -1.26992233e+00, -4.10218022e-01],\n",
       "       [-5.14129634e-02,  2.81127843e-01,  8.58789761e-02],\n",
       "       [-1.68303898e+00, -1.56074423e+00, -1.54832290e+00],\n",
       "       [-3.74755720e-02,  1.92911865e+00, -1.25650114e+00],\n",
       "       [ 4.43329970e-01, -6.88278513e-01,  1.92435609e+00],\n",
       "       [-1.45884136e+00,  1.05665293e+00,  1.45744126e+00],\n",
       "       [ 1.36417660e+00,  2.81127843e-01, -3.51853669e-01],\n",
       "       [ 1.12087193e+00, -2.03575335e-01,  1.73425505e-01],\n",
       "       [ 1.11934171e+00, -8.82159785e-01, -7.31221962e-01],\n",
       "       [-1.57509658e+00, -9.69406357e-03,  1.44243329e-01],\n",
       "       [ 2.42719761e-01, -2.03575335e-01, -1.22731896e+00],\n",
       "       [-7.98807305e-01, -9.69406357e-03,  2.90154211e-01],\n",
       "       [-1.54202457e+00, -4.94397242e-01,  1.48662344e+00],\n",
       "       [-1.28434136e+00, -7.85219149e-01,  1.73425505e-01],\n",
       "       [ 3.75255945e-01, -6.88278513e-01, -1.51914072e+00],\n",
       "       [ 1.42424110e+00, -1.17298169e+00,  2.90154211e-01],\n",
       "       [ 1.62086723e+00,  2.81127843e-01,  1.10725515e+00],\n",
       "       [-2.17503658e-01, -1.26992233e+00, -1.46077637e+00],\n",
       "       [-1.18420168e+00,  3.78068479e-01,  8.58789761e-02],\n",
       "       [ 3.62531700e-01,  8.72465721e-02, -2.35124964e-01],\n",
       "       [-2.06102845e-01, -1.06634699e-01,  2.18699567e+00],\n",
       "       [-1.62388237e-01,  4.75009115e-01, -1.47578435e-01],\n",
       "       [ 1.54813362e+00,  1.05665293e+00, -1.05222590e+00],\n",
       "       [-1.04871535e+00,  1.05665293e+00, -1.13977243e+00],\n",
       "       [-7.75592105e-01, -1.36686296e+00, -1.43159419e+00],\n",
       "       [-5.69453812e-01,  1.73523738e+00,  1.77844520e+00],\n",
       "       [ 1.29968687e+00, -7.85219149e-01,  2.30372438e+00],\n",
       "       [ 1.02517126e+00,  4.75009115e-01, -1.18396258e-01],\n",
       "       [ 1.11403419e+00, -9.79100420e-01, -4.39400198e-01],\n",
       "       [ 1.07404174e+00, -9.69406357e-03, -4.10218022e-01],\n",
       "       [-1.39181505e+00, -1.17298169e+00, -1.37322984e+00],\n",
       "       [ 5.16270364e-01,  2.12299992e+00,  2.15781350e+00],\n",
       "       [ 1.26846215e+00,  4.75009115e-01, -4.39400198e-01],\n",
       "       [ 9.49584004e-01, -9.79100420e-01, -1.51914072e+00],\n",
       "       [ 5.68283992e-01,  9.59712293e-01, -5.85311080e-01],\n",
       "       [-1.41336218e+00, -8.82159785e-01, -2.93489316e-01],\n",
       "       [ 2.80756610e-02, -3.97456606e-01, -1.66755293e-03],\n",
       "       [-1.38151710e+00, -5.91337878e-01, -3.08497293e-02],\n",
       "       [-3.29237148e-01, -2.03575335e-01, -1.34404767e+00],\n",
       "       [ 1.74949023e-01, -2.03575335e-01, -1.37322984e+00],\n",
       "       [ 1.53523016e+00,  1.92911865e+00, -1.05222590e+00],\n",
       "       [-1.10926039e-01, -6.88278513e-01,  1.10725515e+00],\n",
       "       [ 1.32006417e-01,  8.62771657e-01, -1.34404767e+00],\n",
       "       [ 1.95166808e-03,  3.78068479e-01, -2.64307140e-01],\n",
       "       [-1.71602828e+00, -3.97456606e-01, -8.18768491e-01],\n",
       "       [ 8.75788893e-01, -3.97456606e-01, -2.64307140e-01],\n",
       "       [ 9.79774792e-01,  9.59712293e-01, -6.43675433e-01],\n",
       "       [ 1.44093564e+00, -8.82159785e-01, -4.10218022e-01],\n",
       "       [ 6.43333606e-01,  7.65831022e-01, -1.08140808e+00],\n",
       "       [-2.23886460e-01, -2.03575335e-01,  1.73425505e-01],\n",
       "       [ 1.66236430e-01,  2.12299992e+00, -7.89586314e-01],\n",
       "       [ 9.99943342e-01,  9.59712293e-01, -5.56128904e-01],\n",
       "       [-9.07080572e-01,  9.59712293e-01, -5.26946727e-01],\n",
       "       [-1.14521559e+00, -2.03575335e-01,  2.90154211e-01],\n",
       "       [-1.49496593e-02,  1.84187208e-01, -7.89586314e-01],\n",
       "       [-1.56428855e+00,  2.81127843e-01,  2.60972034e-01],\n",
       "       [ 1.10319860e+00, -1.36686296e+00, -6.14493256e-01],\n",
       "       [-1.38926469e+00,  1.84187208e-01,  1.73425505e-01],\n",
       "       [-1.77627200e+00, -2.03575335e-01, -3.51853669e-01],\n",
       "       [-9.66965863e-01,  1.73523738e+00, -8.77132844e-01],\n",
       "       [ 1.09168750e+00, -5.91337878e-01,  5.66967998e-02],\n",
       "       [-1.55841582e+00, -8.82159785e-01,  1.57416997e+00],\n",
       "       [ 6.01369788e-01,  4.75009115e-01,  3.19336387e-01],\n",
       "       [-7.28058845e-01,  2.81127843e-01, -2.93489316e-01],\n",
       "       [-2.38995640e-01,  1.05665293e+00,  1.44243329e-01],\n",
       "       [-1.49609045e+00, -1.56074423e+00,  5.52793798e-01],\n",
       "       [-6.70007059e-01,  1.54135611e+00,  8.58789761e-02],\n",
       "       [-5.60203575e-01, -9.79100420e-01, -3.22671493e-01],\n",
       "       [-1.18398111e+00, -2.03575335e-01, -6.43675433e-01],\n",
       "       [-7.97702476e-02, -8.82159785e-01,  5.81975974e-01],\n",
       "       [ 6.83022775e-01, -1.07604106e+00,  3.19336387e-01],\n",
       "       [-1.72243078e-02, -4.94397242e-01,  1.39907691e+00],\n",
       "       [ 1.23565207e+00,  4.75009115e-01,  1.73425505e-01],\n",
       "       [-2.70041145e-01, -3.97456606e-01,  2.33290656e+00],\n",
       "       [ 1.29440692e+00,  3.78068479e-01,  3.19336387e-01],\n",
       "       [-2.80573457e-01, -5.91337878e-01, -3.22671493e-01],\n",
       "       [-1.49961960e+00,  1.84187208e-01,  1.89517391e+00],\n",
       "       [ 1.63315033e+00, -9.79100420e-01, -1.43159419e+00],\n",
       "       [ 1.26078348e+00, -7.85219149e-01,  4.06882916e-01],\n",
       "       [-4.49917588e-01, -1.75462551e+00,  2.75146234e-02],\n",
       "       [ 1.54912620e+00, -1.75462551e+00,  4.65247269e-01],\n",
       "       [ 1.16247731e+00, -7.85219149e-01, -2.35124964e-01],\n",
       "       [ 5.51589451e-01,  1.84187208e-01,  1.89517391e+00],\n",
       "       [ 5.11392179e-02, -5.91337878e-01,  2.02607682e-01],\n",
       "       [ 2.47117415e-01,  3.78068479e-01,  8.58789761e-02],\n",
       "       [-1.72002615e+00, -1.07604106e+00,  3.19336387e-01],\n",
       "       [-1.54952401e+00,  2.81127843e-01, -2.35124964e-01],\n",
       "       [ 2.02920306e-01, -2.03575335e-01, -1.28568331e+00],\n",
       "       [ 3.99767006e-01,  1.05665293e+00,  7.86251209e-01],\n",
       "       [ 8.27085814e-02,  4.75009115e-01,  2.33290656e+00],\n",
       "       [ 1.54322590e+00, -8.82159785e-01,  2.90154211e-01],\n",
       "       [-1.26271152e+00,  1.34747484e+00,  1.89517391e+00],\n",
       "       [-7.37458756e-02, -3.97456606e-01, -1.19813678e+00],\n",
       "       [ 1.88114413e-01,  4.75009115e-01, -4.39400198e-01],\n",
       "       [-6.34839616e-01,  7.65831022e-01, -1.37322984e+00],\n",
       "       [ 7.55425525e-01, -9.69406357e-03, -3.51853669e-01],\n",
       "       [-6.00430388e-01, -3.00515971e-01,  1.25316603e+00],\n",
       "       [-9.23844042e-01, -2.03575335e-01, -8.77132844e-01],\n",
       "       [ 1.08413291e+00, -1.46380360e+00, -1.22731896e+00],\n",
       "       [ 9.94553114e-01, -2.03575335e-01,  8.58789761e-02],\n",
       "       [ 8.56020130e-01,  1.84187208e-01, -2.93489316e-01],\n",
       "       [ 9.97172407e-01, -1.65768487e+00,  1.44243329e-01],\n",
       "       [-6.81656017e-01,  8.62771657e-01, -1.08140808e+00],\n",
       "       [-3.71697253e-01, -1.07604106e+00, -7.60404138e-01],\n",
       "       [ 6.80761912e-01, -7.85219149e-01,  4.06882916e-01],\n",
       "       [-3.13162966e-01,  1.73523738e+00,  1.63253432e+00],\n",
       "       [-1.53321547e+00, -9.69406357e-03,  2.24536003e+00],\n",
       "       [ 1.65013437e+00,  7.65831022e-01,  1.80762738e+00],\n",
       "       [-1.27130004e+00, -3.97456606e-01, -7.60404138e-01],\n",
       "       [-1.64489382e+00,  3.78068479e-01, -7.02039785e-01],\n",
       "       [ 1.00298999e+00,  4.75009115e-01,  2.90154211e-01],\n",
       "       [ 3.47505234e-01, -9.69406357e-03,  1.98272044e+00],\n",
       "       [ 4.81268349e-01, -1.26992233e+00,  4.36065092e-01],\n",
       "       [-1.41525082e+00, -4.94397242e-01, -1.48995855e+00],\n",
       "       [ 1.02095282e+00,  1.83217801e+00,  1.01970862e+00],\n",
       "       [ 3.94445707e-01,  1.15359356e+00, -8.77132844e-01],\n",
       "       [-8.77124141e-01, -8.82159785e-01,  4.65247269e-01],\n",
       "       [ 1.05510012e+00,  1.54135611e+00,  2.15781350e+00],\n",
       "       [ 1.20613678e+00, -6.88278513e-01,  5.81975974e-01],\n",
       "       [ 1.64071871e+00,  1.92911865e+00, -2.64307140e-01],\n",
       "       [ 3.59181763e-01,  2.81127843e-01,  1.73425505e-01],\n",
       "       [-6.32344395e-01,  3.78068479e-01,  2.90154211e-01],\n",
       "       [-3.72676041e-01, -1.65768487e+00,  3.77700740e-01],\n",
       "       [ 9.19379429e-01, -1.46380360e+00, -4.10218022e-01],\n",
       "       [ 2.16168410e-01, -2.03575335e-01,  5.52793798e-01],\n",
       "       [ 1.14188141e+00,  1.63829674e+00,  2.75146234e-02],\n",
       "       [-1.17726745e+00, -5.91337878e-01, -1.57750508e+00],\n",
       "       [ 8.84308486e-01,  1.25053420e+00, -9.64679373e-01],\n",
       "       [-1.16815507e+00,  4.75009115e-01, -1.18396258e-01],\n",
       "       [-3.83180781e-01, -3.00515971e-01, -7.60404138e-01],\n",
       "       [ 1.45851247e+00,  4.75009115e-01,  1.13643732e+00],\n",
       "       [-9.75788742e-01,  1.63829674e+00, -1.25650114e+00],\n",
       "       [-3.23226562e-01, -1.75462551e+00, -1.40241202e+00],\n",
       "       [-1.05392636e+00, -1.06634699e-01, -5.56128904e-01],\n",
       "       [ 7.56969529e-01, -9.69406357e-03,  2.75146234e-02],\n",
       "       [ 1.37425398e+00, -1.06634699e-01,  1.66171650e+00],\n",
       "       [-8.87504810e-01,  9.59712293e-01, -1.43159419e+00],\n",
       "       [ 5.91554335e-01, -6.88278513e-01,  2.90154211e-01],\n",
       "       [-1.24812620e+00,  2.12299992e+00,  4.06882916e-01],\n",
       "       [ 2.96196648e-02, -7.85219149e-01,  3.19336387e-01],\n",
       "       [ 1.34556781e-01,  5.71949750e-01,  1.25316603e+00],\n",
       "       [ 3.39070325e-02,  8.72465721e-02,  3.19336387e-01],\n",
       "       [-4.22263377e-01,  2.02605929e+00,  2.18699567e+00],\n",
       "       [-1.36170698e+00, -1.06634699e-01,  1.63253432e+00],\n",
       "       [ 1.34108547e+00,  1.15359356e+00, -1.19813678e+00],\n",
       "       [ 7.05824403e-01, -1.85156614e+00, -4.97764551e-01],\n",
       "       [ 1.32991901e+00, -6.88278513e-01, -1.57750508e+00],\n",
       "       [-1.18376054e+00,  2.12299992e+00,  5.52793798e-01],\n",
       "       [-1.27230640e+00, -9.79100420e-01, -3.51853669e-01],\n",
       "       [ 1.16085060e+00,  8.72465721e-02,  5.66967998e-02],\n",
       "       [ 1.35480229e+00, -5.91337878e-01,  5.81975974e-01],\n",
       "       [-3.19931768e-01,  9.59712293e-01, -1.02304373e+00],\n",
       "       [-1.57625458e+00, -5.91337878e-01,  1.44243329e-01],\n",
       "       [ 6.27411067e-01, -9.69406357e-03,  8.58789761e-02],\n",
       "       [-8.68561222e-02,  2.81127843e-01, -3.51853669e-01],\n",
       "       [ 1.82710399e-01,  2.12299992e+00,  1.77844520e+00],\n",
       "       [-8.20450930e-01,  1.15359356e+00, -1.18396258e-01],\n",
       "       [-1.31183014e+00,  1.05665293e+00,  6.11158150e-01],\n",
       "       [ 2.60077988e-02,  8.62771657e-01, -1.37322984e+00],\n",
       "       [-3.87661149e-01,  1.63829674e+00,  1.01970862e+00],\n",
       "       [ 1.59096594e+00, -2.03575335e-01, -1.43159419e+00],\n",
       "       [ 8.04034073e-01,  1.15359356e+00,  2.09944914e+00],\n",
       "       [ 2.63591384e-01,  1.05665293e+00, -8.18768491e-01],\n",
       "       [-1.47182557e-01, -2.03575335e-01, -4.10218022e-01],\n",
       "       [-9.93062284e-01, -1.06634699e-01, -2.64307140e-01],\n",
       "       [-9.76621795e-03, -4.94397242e-01,  2.36208873e+00],\n",
       "       [-4.05251764e-01, -1.85156614e+00, -3.08497293e-02],\n",
       "       [-8.15328540e-03, -1.26992233e+00, -4.10218022e-01],\n",
       "       [-1.49049344e+00,  4.75009115e-01,  6.11158150e-01],\n",
       "       [ 5.60949974e-01,  8.72465721e-02, -2.93489316e-01],\n",
       "       [ 1.15788666e+00,  2.21994056e+00,  1.13643732e+00],\n",
       "       [-1.63167329e+00, -1.46380360e+00, -1.76760611e-01],\n",
       "       [-1.57492327e-02, -1.26992233e+00, -1.08140808e+00],\n",
       "       [ 1.31842170e+00,  8.62771657e-01, -2.93489316e-01],\n",
       "       [ 1.37527412e+00,  1.05665293e+00,  1.89517391e+00],\n",
       "       [-3.32931729e-01,  3.78068479e-01,  8.58789761e-02],\n",
       "       [ 3.94597350e-01,  1.25053420e+00, -7.31221962e-01],\n",
       "       [ 5.34536481e-01,  8.72465721e-02,  5.66967998e-02],\n",
       "       [-1.53605534e+00, -1.26992233e+00, -1.34404767e+00],\n",
       "       [-1.37877177e-01, -2.03575335e-01, -2.35124964e-01],\n",
       "       [ 8.04213288e-01, -9.69406357e-03,  3.19336387e-01],\n",
       "       [ 4.24884639e-01, -1.26992233e+00, -1.22731896e+00],\n",
       "       [ 1.33121487e+00, -1.07604106e+00,  4.36065092e-01],\n",
       "       [-1.00228495e+00, -3.00515971e-01, -1.28568331e+00],\n",
       "       [-1.29568703e+00, -1.06634699e-01, -4.39400198e-01],\n",
       "       [-7.79920830e-01, -1.56074423e+00, -3.08497293e-02],\n",
       "       [ 1.56895010e+00,  3.78068479e-01,  5.66967998e-02],\n",
       "       [-8.22243077e-01,  2.21994056e+00, -7.89586314e-01],\n",
       "       [ 7.51579301e-01,  1.44441547e+00,  6.11158150e-01],\n",
       "       [-1.38284053e+00, -1.65768487e+00, -1.34404767e+00],\n",
       "       [ 1.45213164e-01,  1.34747484e+00, -1.34404767e+00],\n",
       "       [-6.79781155e-01,  8.62771657e-01,  2.90154211e-01],\n",
       "       [-8.42644016e-02, -6.88278513e-01, -5.85311080e-01]])"
      ]
     },
     "execution_count": 36,
     "metadata": {},
     "output_type": "execute_result"
    }
   ],
   "source": [
    "Std = StandardScaler()\n",
    "x_test = Std.fit_transform(x_test)\n",
    "x_train = Std.fit_transform(x_train)\n",
    "x_test\n",
    "x_train"
   ]
  },
  {
   "cell_type": "code",
   "execution_count": 38,
   "id": "94cccc82",
   "metadata": {},
   "outputs": [],
   "source": [
    "model2 = LogisticRegression()"
   ]
  },
  {
   "cell_type": "code",
   "execution_count": 39,
   "id": "7e1fcfce",
   "metadata": {},
   "outputs": [
    {
     "name": "stdout",
     "output_type": "stream",
     "text": [
      "[0 0 1 1 0 0 0 1 0 1 0 0 0 1 1 1 1 0 0 1 0 1 1 0 0 0 1 1 1 1 0 0 0 1 0 0 0\n",
      " 0 0 0 1 1 0 0 1 0 0 1 0 1 0 0 0 0 0 0 1 0 1 1 0 0 1 0 0 1 0 0 1 0 1 0 1 0\n",
      " 0 1 0 0 0 0 0 0 1 0 0 0 0 0 0 0 1 1 0 0 0 1 1 0 0 0 0 1 0 0 0 0 0 1 1 0 0\n",
      " 0 0 0 0 0 0 0 0 0]\n",
      "0.8\n"
     ]
    }
   ],
   "source": [
    "model2.fit(x_train,y_train)\n",
    "pred_y2 = model2.predict(x_test)\n",
    "print(pred_y2)\n",
    "acc2 = accuracy_score(y_test,pred_y2)\n",
    "print(acc2)"
   ]
  },
  {
   "cell_type": "code",
   "execution_count": 40,
   "id": "0b06c2bf",
   "metadata": {},
   "outputs": [],
   "source": [
    "# model1 was not normalize and accuracy was 69% \n",
    "# but after normalizing for model2 the accuracy was\n",
    "# 80%"
   ]
  },
  {
   "cell_type": "code",
   "execution_count": 44,
   "id": "392523d5",
   "metadata": {},
   "outputs": [],
   "source": [
    "from sklearn.metrics import confusion_matrix\n",
    "from sklearn.metrics import ConfusionMatrixDisplay\n"
   ]
  },
  {
   "cell_type": "code",
   "execution_count": 45,
   "id": "60cc6fbd",
   "metadata": {},
   "outputs": [
    {
     "data": {
      "text/plain": [
       "array([[63,  9],\n",
       "       [28, 20]])"
      ]
     },
     "execution_count": 45,
     "metadata": {},
     "output_type": "execute_result"
    }
   ],
   "source": [
    "cm = confusion_matrix(y_test,pred_y)\n",
    "cm"
   ]
  },
  {
   "cell_type": "code",
   "execution_count": 46,
   "id": "0fc87b64",
   "metadata": {},
   "outputs": [
    {
     "data": {
      "text/plain": [
       "<sklearn.metrics._plot.confusion_matrix.ConfusionMatrixDisplay at 0x7fbff9de56a0>"
      ]
     },
     "execution_count": 46,
     "metadata": {},
     "output_type": "execute_result"
    },
    {
     "data": {
      "image/png": "[encoded data removed]",
      "text/plain": [
       "<Figure size 432x288 with 2 Axes>"
      ]
     },
     "metadata": {
      "needs_background": "light"
     },
     "output_type": "display_data"
    }
   ],
   "source": [
    "ConfusionMatrixDisplay(cm).plot()"
   ]
  },
  {
   "cell_type": "code",
   "execution_count": 48,
   "id": "66954101",
   "metadata": {},
   "outputs": [],
   "source": [
    "from sklearn.metrics import recall_score ,precision_score"
   ]
  },
  {
   "cell_type": "code",
   "execution_count": 49,
   "id": "b84da4d4",
   "metadata": {},
   "outputs": [
    {
     "name": "stdout",
     "output_type": "stream",
     "text": [
      "recall =  0.4166666666666667\n"
     ]
    }
   ],
   "source": [
    "print(\"recall = \", recall_score(y_test,pred_y))"
   ]
  },
  {
   "cell_type": "code",
   "execution_count": 1,
   "id": "d8003b4e",
   "metadata": {},
   "outputs": [
    {
     "ename": "NameError",
     "evalue": "name 'y_test' is not defined",
     "output_type": "error",
     "traceback": [
      "\u001b[0;31m---------------------------------------------------------------------------\u001b[0m",
      "\u001b[0;31mNameError\u001b[0m                                 Traceback (most recent call last)",
      "Input \u001b[0;32mIn [1]\u001b[0m, in \u001b[0;36m<cell line: 2>\u001b[0;34m()\u001b[0m\n\u001b[1;32m      1\u001b[0m \u001b[38;5;28;01mfrom\u001b[39;00m \u001b[38;5;21;01msklearn\u001b[39;00m\u001b[38;5;21;01m.\u001b[39;00m\u001b[38;5;21;01mmetrics\u001b[39;00m \u001b[38;5;28;01mimport\u001b[39;00m classification_report\n\u001b[0;32m----> 2\u001b[0m classification_report(\u001b[43my_test\u001b[49m,pred_y)\n",
      "\u001b[0;31mNameError\u001b[0m: name 'y_test' is not defined"
     ]
    }
   ],
   "source": [
    "from sklearn.metrics import classification_report\n",
    "classification_report(y_test,pred_y)"
   ]
  },
  {
   "cell_type": "code",
   "execution_count": null,
   "id": "15880d6f",
   "metadata": {},
   "outputs": [],
   "source": [
    "classification_report(y_test,pred_y2)"
   ]
  }
 ],
 "metadata": {
  "kernelspec": {
   "display_name": "Python 3 (ipykernel)",
   "language": "python",
   "name": "python3"
  },
  "language_info": {
   "codemirror_mode": {
    "name": "ipython",
    "version": 3
   },
   "file_extension": ".py",
   "mimetype": "text/x-python",
   "name": "python",
   "nbconvert_exporter": "python",
   "pygments_lexer": "ipython3",
   "version": "3.10.6"
  }
 },
 "nbformat": 4,
 "nbformat_minor": 5
}
