{
 "cells": [
  {
   "cell_type": "markdown",
   "id": "48c97190",
   "metadata": {},
   "source": [
    "Q1. Perform the following operations on Age-Income dataset (Age-\n",
    "Income-Dataset.csv)\n",
    "\n",
    "Provide summary statistics (mean, median, minimum, maximum,\n",
    "standard deviation) for numeric variables with and without using\n",
    "any library functions.\n",
    "Provide summary statistics of income grouped by the age groups.\n",
    "Create a list that contains a numeric value for each response to the\n",
    "categorical variable."
   ]
  },
  {
   "cell_type": "code",
   "execution_count": 4,
   "id": "36c55e93",
   "metadata": {},
   "outputs": [
    {
     "data": {
      "text/html": [
       "<div>\n",
       "<style scoped>\n",
       "    .dataframe tbody tr th:only-of-type {\n",
       "        vertical-align: middle;\n",
       "    }\n",
       "\n",
       "    .dataframe tbody tr th {\n",
       "        vertical-align: top;\n",
       "    }\n",
       "\n",
       "    .dataframe thead th {\n",
       "        text-align: right;\n",
       "    }\n",
       "</style>\n",
       "<table border=\"1\" class=\"dataframe\">\n",
       "  <thead>\n",
       "    <tr style=\"text-align: right;\">\n",
       "      <th></th>\n",
       "      <th>Age</th>\n",
       "      <th>Income</th>\n",
       "    </tr>\n",
       "  </thead>\n",
       "  <tbody>\n",
       "    <tr>\n",
       "      <th>0</th>\n",
       "      <td>Young</td>\n",
       "      <td>25000</td>\n",
       "    </tr>\n",
       "    <tr>\n",
       "      <th>1</th>\n",
       "      <td>Middle Age</td>\n",
       "      <td>54000</td>\n",
       "    </tr>\n",
       "    <tr>\n",
       "      <th>2</th>\n",
       "      <td>Old</td>\n",
       "      <td>60000</td>\n",
       "    </tr>\n",
       "    <tr>\n",
       "      <th>3</th>\n",
       "      <td>Young</td>\n",
       "      <td>15000</td>\n",
       "    </tr>\n",
       "    <tr>\n",
       "      <th>4</th>\n",
       "      <td>Young</td>\n",
       "      <td>45000</td>\n",
       "    </tr>\n",
       "  </tbody>\n",
       "</table>\n",
       "</div>"
      ],
      "text/plain": [
       "          Age  Income\n",
       "0       Young   25000\n",
       "1  Middle Age   54000\n",
       "2         Old   60000\n",
       "3       Young   15000\n",
       "4       Young   45000"
      ]
     },
     "execution_count": 4,
     "metadata": {},
     "output_type": "execute_result"
    }
   ],
   "source": [
    "import pandas as pd\n",
    "import statistics\n",
    "import numpy as np\n",
    "import scipy.stats\n",
    "import math\n",
    "df = pd.read_excel('Age-Income-Dataset.xlsx')\n",
    "df.head()"
   ]
  },
  {
   "cell_type": "code",
   "execution_count": 8,
   "id": "7b8ea263",
   "metadata": {},
   "outputs": [
    {
     "name": "stdout",
     "output_type": "stream",
     "text": [
      "mean of income :  50966.0\n"
     ]
    }
   ],
   "source": [
    "# Mean manually\n",
    "mean_income = sum(df.Income)/len(df.Income)\n",
    "print(\"mean of income : \",mean_income)"
   ]
  },
  {
   "cell_type": "code",
   "execution_count": 9,
   "id": "3c2cbfca",
   "metadata": {},
   "outputs": [
    {
     "name": "stdout",
     "output_type": "stream",
     "text": [
      "mean of income :  50966\n"
     ]
    }
   ],
   "source": [
    "# Mean using package\n",
    "mean_income = statistics.mean(df.Income)\n",
    "print(\"mean of income : \",mean_income)"
   ]
  },
  {
   "cell_type": "code",
   "execution_count": 11,
   "id": "cb19122f",
   "metadata": {},
   "outputs": [
    {
     "name": "stdout",
     "output_type": "stream",
     "text": [
      "Median of Income :  46850.0\n"
     ]
    }
   ],
   "source": [
    "# Median manually\n",
    "len_of_income = len(df.Income)\n",
    "if len_of_income % 2 :\n",
    "    income_median = sorted(df.Income)[round(0.5*(len_of_income - 1))]\n",
    "else :\n",
    "    x_ord, index = sorted(df.Income), round(0.5 * len_of_income)\n",
    "    income_median = 0.5 * (x_ord[index-1] + x_ord[index])\n",
    "    \n",
    "print(\"Median of Income : \",income_median)\n",
    "    "
   ]
  },
  {
   "cell_type": "code",
   "execution_count": 12,
   "id": "d9e52758",
   "metadata": {},
   "outputs": [
    {
     "name": "stdout",
     "output_type": "stream",
     "text": [
      "Median of Income :  46850.0\n"
     ]
    }
   ],
   "source": [
    "#Median by packages\n",
    "income_median = statistics.median(df.Income)\n",
    "print(\"Median of Income : \",income_median)\n"
   ]
  },
  {
   "cell_type": "code",
   "execution_count": 27,
   "id": "37a5b876",
   "metadata": {},
   "outputs": [
    {
     "name": "stdout",
     "output_type": "stream",
     "text": [
      "[25000, 54000, 60000, 15000, 45000, 65000, 70000, 30000, 27000, 23000, 48000, 52000, 33000, 80000, 75000, 35000, 29000, 57000, 43000, 56000, 63000, 32000, 45000, 89000, 90000, 93000, 80000, 87000, 38000, 23000, 38900, 53200, 43800, 25600, 65400, 76800, 89700, 41800, 31900, 25600, 45700, 35600, 54300, 65400, 67800, 24500, 34900, 45300, 68400, 51700, 45000]\n",
      "Mode of Income :  (3, 45000)\n"
     ]
    }
   ],
   "source": [
    "# Mode manually\n",
    "alldata = []\n",
    "for i in df.Income:\n",
    "    alldata.append(i)\n",
    "\n",
    "alldata.append(45000)\n",
    "print(alldata)\n",
    "income_mode = max((alldata.count(item), item) for item in set(alldata))\n",
    "print(\"Mode of Income : \",income_mode)\n",
    "\n"
   ]
  },
  {
   "cell_type": "code",
   "execution_count": 28,
   "id": "f9843623",
   "metadata": {},
   "outputs": [
    {
     "name": "stdout",
     "output_type": "stream",
     "text": [
      "Mode of Income :  45000\n"
     ]
    }
   ],
   "source": [
    "#Mode with package\n",
    "\n",
    "income_mode = statistics.mode(df.Income)\n",
    "print(\"Mode of Income : \",income_mode)\n"
   ]
  },
  {
   "cell_type": "code",
   "execution_count": null,
   "id": "d2e94778",
   "metadata": {},
   "outputs": [],
   "source": []
  }
 ],
 "metadata": {
  "kernelspec": {
   "display_name": "Python 3 (ipykernel)",
   "language": "python",
   "name": "python3"
  },
  "language_info": {
   "codemirror_mode": {
    "name": "ipython",
    "version": 3
   },
   "file_extension": ".py",
   "mimetype": "text/x-python",
   "name": "python",
   "nbconvert_exporter": "python",
   "pygments_lexer": "ipython3",
   "version": "3.9.13"
  }
 },
 "nbformat": 4,
 "nbformat_minor": 5
}
