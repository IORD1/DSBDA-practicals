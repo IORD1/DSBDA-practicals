{
 "cells": [
  {
   "cell_type": "markdown",
   "id": "48c97190",
   "metadata": {},
   "source": [
    "Q1. Perform the following operations on Age-Income dataset (Age-\n",
    "Income-Dataset.csv)\n",
    "\n",
    "Provide summary statistics (mean, median, minimum, maximum,\n",
    "standard deviation) for numeric variables with and without using\n",
    "any library functions.\n",
    "Provide summary statistics of income grouped by the age groups.\n",
    "Create a list that contains a numeric value for each response to the\n",
    "categorical variable."
   ]
  },
  {
   "cell_type": "code",
   "execution_count": 1,
   "id": "36c55e93",
   "metadata": {},
   "outputs": [
    {
     "data": {
      "text/html": [
       "<div>\n",
       "<style scoped>\n",
       "    .dataframe tbody tr th:only-of-type {\n",
       "        vertical-align: middle;\n",
       "    }\n",
       "\n",
       "    .dataframe tbody tr th {\n",
       "        vertical-align: top;\n",
       "    }\n",
       "\n",
       "    .dataframe thead th {\n",
       "        text-align: right;\n",
       "    }\n",
       "</style>\n",
       "<table border=\"1\" class=\"dataframe\">\n",
       "  <thead>\n",
       "    <tr style=\"text-align: right;\">\n",
       "      <th></th>\n",
       "      <th>Age</th>\n",
       "      <th>Income</th>\n",
       "    </tr>\n",
       "  </thead>\n",
       "  <tbody>\n",
       "    <tr>\n",
       "      <th>0</th>\n",
       "      <td>Young</td>\n",
       "      <td>25000</td>\n",
       "    </tr>\n",
       "    <tr>\n",
       "      <th>1</th>\n",
       "      <td>Middle Age</td>\n",
       "      <td>54000</td>\n",
       "    </tr>\n",
       "    <tr>\n",
       "      <th>2</th>\n",
       "      <td>Old</td>\n",
       "      <td>60000</td>\n",
       "    </tr>\n",
       "    <tr>\n",
       "      <th>3</th>\n",
       "      <td>Young</td>\n",
       "      <td>15000</td>\n",
       "    </tr>\n",
       "    <tr>\n",
       "      <th>4</th>\n",
       "      <td>Young</td>\n",
       "      <td>45000</td>\n",
       "    </tr>\n",
       "  </tbody>\n",
       "</table>\n",
       "</div>"
      ],
      "text/plain": [
       "          Age  Income\n",
       "0       Young   25000\n",
       "1  Middle Age   54000\n",
       "2         Old   60000\n",
       "3       Young   15000\n",
       "4       Young   45000"
      ]
     },
     "execution_count": 1,
     "metadata": {},
     "output_type": "execute_result"
    }
   ],
   "source": [
    "import pandas as pd\n",
    "import statistics\n",
    "import numpy as np\n",
    "import scipy.stats\n",
    "import math\n",
    "df = pd.read_excel('Age-Income-Dataset.xlsx')\n",
    "df.head()"
   ]
  },
  {
   "cell_type": "code",
   "execution_count": 2,
   "id": "7b8ea263",
   "metadata": {},
   "outputs": [
    {
     "name": "stdout",
     "output_type": "stream",
     "text": [
      "mean of income :  50966.0\n"
     ]
    }
   ],
   "source": [
    "# Mean manually\n",
    "\n",
    "mean_income = sum(df.Income)/len(df.Income)\n",
    "print(\"mean of income : \",mean_income)"
   ]
  },
  {
   "cell_type": "code",
   "execution_count": 3,
   "id": "3c2cbfca",
   "metadata": {},
   "outputs": [
    {
     "name": "stdout",
     "output_type": "stream",
     "text": [
      "mean of income :  50966\n"
     ]
    }
   ],
   "source": [
    "# Mean using package\n",
    "\n",
    "mean_income = statistics.mean(df.Income)\n",
    "print(\"mean of income : \",mean_income)"
   ]
  },
  {
   "cell_type": "code",
   "execution_count": 4,
   "id": "cb19122f",
   "metadata": {},
   "outputs": [
    {
     "name": "stdout",
     "output_type": "stream",
     "text": [
      "Median of Income :  46850.0\n"
     ]
    }
   ],
   "source": [
    "# Median manually\n",
    "\n",
    "len_of_income = len(df.Income)\n",
    "if len_of_income % 2 :\n",
    "    income_median = sorted(df.Income)[round(0.5*(len_of_income - 1))]\n",
    "else :\n",
    "    x_ord, index = sorted(df.Income), round(0.5 * len_of_income)\n",
    "    income_median = 0.5 * (x_ord[index-1] + x_ord[index])\n",
    "    \n",
    "print(\"Median of Income : \",income_median)\n",
    "    "
   ]
  },
  {
   "cell_type": "code",
   "execution_count": 5,
   "id": "d9e52758",
   "metadata": {},
   "outputs": [
    {
     "name": "stdout",
     "output_type": "stream",
     "text": [
      "Median of Income :  46850.0\n"
     ]
    }
   ],
   "source": [
    "#Median by packages\n",
    "\n",
    "income_median = statistics.median(df.Income)\n",
    "print(\"Median of Income : \",income_median)\n"
   ]
  },
  {
   "cell_type": "code",
   "execution_count": 6,
   "id": "37a5b876",
   "metadata": {},
   "outputs": [
    {
     "name": "stdout",
     "output_type": "stream",
     "text": [
      "[25000, 54000, 60000, 15000, 45000, 65000, 70000, 30000, 27000, 23000, 48000, 52000, 33000, 80000, 75000, 35000, 29000, 57000, 43000, 56000, 63000, 32000, 45000, 89000, 90000, 93000, 80000, 87000, 38000, 23000, 38900, 53200, 43800, 25600, 65400, 76800, 89700, 41800, 31900, 25600, 45700, 35600, 54300, 65400, 67800, 24500, 34900, 45300, 68400, 51700, 45000]\n",
      "Mode of Income :  (3, 45000)\n"
     ]
    }
   ],
   "source": [
    "# Mode manually\n",
    "\n",
    "alldata = []\n",
    "for i in df.Income:\n",
    "    alldata.append(i)\n",
    "\n",
    "alldata.append(45000)\n",
    "print(alldata)\n",
    "income_mode = max((alldata.count(item), item) for item in set(alldata))\n",
    "print(\"Mode of Income : \",income_mode)\n",
    "\n"
   ]
  },
  {
   "cell_type": "code",
   "execution_count": 7,
   "id": "f9843623",
   "metadata": {},
   "outputs": [
    {
     "name": "stdout",
     "output_type": "stream",
     "text": [
      "Mode of Income :  45000\n"
     ]
    }
   ],
   "source": [
    "#Mode with package\n",
    "\n",
    "income_mode = statistics.mode(df.Income)\n",
    "print(\"Mode of Income : \",income_mode)\n"
   ]
  },
  {
   "cell_type": "code",
   "execution_count": 8,
   "id": "d2e94778",
   "metadata": {},
   "outputs": [
    {
     "name": "stdout",
     "output_type": "stream",
     "text": [
      "445070044.8979592\n"
     ]
    }
   ],
   "source": [
    "# Variance Manually \n",
    "\n",
    "income_mean = sum(df.Income)/len_of_income\n",
    "income_var = sum((item - income_mean)**2 for item in df.Income) / (len_of_income - 1)\n",
    "print(income_var)"
   ]
  },
  {
   "cell_type": "code",
   "execution_count": 9,
   "id": "5fba7c90",
   "metadata": {},
   "outputs": [
    {
     "name": "stdout",
     "output_type": "stream",
     "text": [
      "445070044.8979592\n"
     ]
    }
   ],
   "source": [
    "# Variance with Package\n",
    "\n",
    "income_variance = statistics.variance(df.Income)\n",
    "print(income_variance)"
   ]
  },
  {
   "cell_type": "code",
   "execution_count": 10,
   "id": "2f99a34a",
   "metadata": {},
   "outputs": [
    {
     "name": "stdout",
     "output_type": "stream",
     "text": [
      "21096.683267707253\n"
     ]
    }
   ],
   "source": [
    "# Standard Deviation using Formula\n",
    "\n",
    "income_sd = income_variance**0.5\n",
    "print(income_sd)"
   ]
  },
  {
   "cell_type": "code",
   "execution_count": 11,
   "id": "01cf8b20",
   "metadata": {},
   "outputs": [
    {
     "name": "stdout",
     "output_type": "stream",
     "text": [
      "21096.683267707253\n"
     ]
    }
   ],
   "source": [
    "# Standard Deviation using Package\n",
    "\n",
    "income_sdp = statistics.stdev(df.Income)\n",
    "print(income_sdp)"
   ]
  },
  {
   "cell_type": "code",
   "execution_count": 12,
   "id": "b689257e",
   "metadata": {},
   "outputs": [
    {
     "name": "stdout",
     "output_type": "stream",
     "text": [
      "0.3896340114677523\n"
     ]
    }
   ],
   "source": [
    "# Skewness Manually\n",
    "\n",
    "income_skew =  (sum((item - income_mean)**3 for item in df.Income)*len_of_income / ((len_of_income -1) * (len_of_income - 2) * income_sd**3))    \n",
    "print(income_skew)"
   ]
  },
  {
   "cell_type": "code",
   "execution_count": 13,
   "id": "475ada49",
   "metadata": {},
   "outputs": [
    {
     "name": "stdout",
     "output_type": "stream",
     "text": [
      "0.3896340114677522\n"
     ]
    }
   ],
   "source": [
    "# Skewness using Libraries\n",
    "\n",
    "income_np = np.array(df.Income);\n",
    "income_skewp = scipy.stats.skew(income_np, bias=False)\n",
    "print(income_skewp)"
   ]
  },
  {
   "cell_type": "code",
   "execution_count": 14,
   "id": "939b3fff",
   "metadata": {},
   "outputs": [
    {
     "name": "stdout",
     "output_type": "stream",
     "text": [
      "Maximum values in icome data column : 93000\n"
     ]
    }
   ],
   "source": [
    "# Maximum and Minimum\n",
    "\n",
    "income_df_max = df.Income.max()\n",
    "print(\"Maximum values in icome data column :\",income_df_max)"
   ]
  },
  {
   "cell_type": "code",
   "execution_count": 15,
   "id": "14620975",
   "metadata": {},
   "outputs": [
    {
     "name": "stdout",
     "output_type": "stream",
     "text": [
      "Minimum values in icome data column : 15000\n"
     ]
    }
   ],
   "source": [
    "# Minimum value\n",
    "income_df_min = df.Income.min()\n",
    "print(\"Minimum values in icome data column :\",income_df_min)"
   ]
  },
  {
   "cell_type": "markdown",
   "id": "002a1584",
   "metadata": {},
   "source": [
    "#### Summary Statistics of Income Grouped by Age"
   ]
  },
  {
   "cell_type": "code",
   "execution_count": 16,
   "id": "38e65ea9",
   "metadata": {},
   "outputs": [
    {
     "data": {
      "text/html": [
       "<div>\n",
       "<style scoped>\n",
       "    .dataframe tbody tr th:only-of-type {\n",
       "        vertical-align: middle;\n",
       "    }\n",
       "\n",
       "    .dataframe tbody tr th {\n",
       "        vertical-align: top;\n",
       "    }\n",
       "\n",
       "    .dataframe thead tr th {\n",
       "        text-align: left;\n",
       "    }\n",
       "\n",
       "    .dataframe thead tr:last-of-type th {\n",
       "        text-align: right;\n",
       "    }\n",
       "</style>\n",
       "<table border=\"1\" class=\"dataframe\">\n",
       "  <thead>\n",
       "    <tr>\n",
       "      <th></th>\n",
       "      <th colspan=\"8\" halign=\"left\">Income</th>\n",
       "    </tr>\n",
       "    <tr>\n",
       "      <th></th>\n",
       "      <th>count</th>\n",
       "      <th>mean</th>\n",
       "      <th>std</th>\n",
       "      <th>min</th>\n",
       "      <th>25%</th>\n",
       "      <th>50%</th>\n",
       "      <th>75%</th>\n",
       "      <th>max</th>\n",
       "    </tr>\n",
       "    <tr>\n",
       "      <th>Age</th>\n",
       "      <th></th>\n",
       "      <th></th>\n",
       "      <th></th>\n",
       "      <th></th>\n",
       "      <th></th>\n",
       "      <th></th>\n",
       "      <th></th>\n",
       "      <th></th>\n",
       "    </tr>\n",
       "  </thead>\n",
       "  <tbody>\n",
       "    <tr>\n",
       "      <th>Middle Age</th>\n",
       "      <td>15.0</td>\n",
       "      <td>52453.333333</td>\n",
       "      <td>20497.800114</td>\n",
       "      <td>25600.0</td>\n",
       "      <td>36900.0</td>\n",
       "      <td>53200.0</td>\n",
       "      <td>61200.0</td>\n",
       "      <td>93000.0</td>\n",
       "    </tr>\n",
       "    <tr>\n",
       "      <th>Old</th>\n",
       "      <td>19.0</td>\n",
       "      <td>53942.105263</td>\n",
       "      <td>20868.165968</td>\n",
       "      <td>24500.0</td>\n",
       "      <td>38700.0</td>\n",
       "      <td>45300.0</td>\n",
       "      <td>71400.0</td>\n",
       "      <td>89700.0</td>\n",
       "    </tr>\n",
       "    <tr>\n",
       "      <th>Young</th>\n",
       "      <td>16.0</td>\n",
       "      <td>46037.500000</td>\n",
       "      <td>22356.859499</td>\n",
       "      <td>15000.0</td>\n",
       "      <td>28750.0</td>\n",
       "      <td>41500.0</td>\n",
       "      <td>65850.0</td>\n",
       "      <td>87000.0</td>\n",
       "    </tr>\n",
       "  </tbody>\n",
       "</table>\n",
       "</div>"
      ],
      "text/plain": [
       "           Income                                                         \\\n",
       "            count          mean           std      min      25%      50%   \n",
       "Age                                                                        \n",
       "Middle Age   15.0  52453.333333  20497.800114  25600.0  36900.0  53200.0   \n",
       "Old          19.0  53942.105263  20868.165968  24500.0  38700.0  45300.0   \n",
       "Young        16.0  46037.500000  22356.859499  15000.0  28750.0  41500.0   \n",
       "\n",
       "                              \n",
       "                75%      max  \n",
       "Age                           \n",
       "Middle Age  61200.0  93000.0  \n",
       "Old         71400.0  89700.0  \n",
       "Young       65850.0  87000.0  "
      ]
     },
     "execution_count": 16,
     "metadata": {},
     "output_type": "execute_result"
    }
   ],
   "source": [
    "df.groupby(df.Age).describe()\n",
    "# Grouping according to Age and then Describing it"
   ]
  },
  {
   "cell_type": "markdown",
   "id": "d3f52c5a",
   "metadata": {},
   "source": [
    "#### List that contains a numeric value for each response to the  categorical variable"
   ]
  },
  {
   "cell_type": "code",
   "execution_count": 17,
   "id": "29615cae",
   "metadata": {},
   "outputs": [
    {
     "data": {
      "text/html": [
       "<div>\n",
       "<style scoped>\n",
       "    .dataframe tbody tr th:only-of-type {\n",
       "        vertical-align: middle;\n",
       "    }\n",
       "\n",
       "    .dataframe tbody tr th {\n",
       "        vertical-align: top;\n",
       "    }\n",
       "\n",
       "    .dataframe thead th {\n",
       "        text-align: right;\n",
       "    }\n",
       "</style>\n",
       "<table border=\"1\" class=\"dataframe\">\n",
       "  <thead>\n",
       "    <tr style=\"text-align: right;\">\n",
       "      <th></th>\n",
       "      <th>Age</th>\n",
       "      <th>Income</th>\n",
       "    </tr>\n",
       "  </thead>\n",
       "  <tbody>\n",
       "    <tr>\n",
       "      <th>0</th>\n",
       "      <td>1</td>\n",
       "      <td>25000</td>\n",
       "    </tr>\n",
       "    <tr>\n",
       "      <th>1</th>\n",
       "      <td>2</td>\n",
       "      <td>54000</td>\n",
       "    </tr>\n",
       "    <tr>\n",
       "      <th>2</th>\n",
       "      <td>3</td>\n",
       "      <td>60000</td>\n",
       "    </tr>\n",
       "    <tr>\n",
       "      <th>3</th>\n",
       "      <td>1</td>\n",
       "      <td>15000</td>\n",
       "    </tr>\n",
       "    <tr>\n",
       "      <th>4</th>\n",
       "      <td>1</td>\n",
       "      <td>45000</td>\n",
       "    </tr>\n",
       "  </tbody>\n",
       "</table>\n",
       "</div>"
      ],
      "text/plain": [
       "   Age  Income\n",
       "0    1   25000\n",
       "1    2   54000\n",
       "2    3   60000\n",
       "3    1   15000\n",
       "4    1   45000"
      ]
     },
     "execution_count": 17,
     "metadata": {},
     "output_type": "execute_result"
    }
   ],
   "source": [
    "df.Age.replace([\"Young\",\"Middle Age\",\"Old\"],[1,2,3], inplace= True)\n",
    "df.head()"
   ]
  },
  {
   "cell_type": "markdown",
   "id": "bc1f91f8",
   "metadata": {},
   "source": [
    "Write a Python program to display some basic statistical details\n",
    "\n",
    "like percentile, mean, standard deviation etc. of the species of ‘Iris-\n",
    "setosa’, ‘Iris-versicolor’ and ‘Iris-virginica’ of iris.csv dataset.\n",
    "\n",
    "Calculate the measures of variability. Calculate and provide the\n",
    "visualization of the Correlation among the variables."
   ]
  },
  {
   "cell_type": "code",
   "execution_count": 18,
   "id": "a6f8666f",
   "metadata": {},
   "outputs": [],
   "source": [
    "df = pd.read_csv('Iris.csv')"
   ]
  },
  {
   "cell_type": "code",
   "execution_count": 19,
   "id": "a8fa0a70",
   "metadata": {},
   "outputs": [
    {
     "data": {
      "text/html": [
       "<div>\n",
       "<style scoped>\n",
       "    .dataframe tbody tr th:only-of-type {\n",
       "        vertical-align: middle;\n",
       "    }\n",
       "\n",
       "    .dataframe tbody tr th {\n",
       "        vertical-align: top;\n",
       "    }\n",
       "\n",
       "    .dataframe thead th {\n",
       "        text-align: right;\n",
       "    }\n",
       "</style>\n",
       "<table border=\"1\" class=\"dataframe\">\n",
       "  <thead>\n",
       "    <tr style=\"text-align: right;\">\n",
       "      <th></th>\n",
       "      <th>Id</th>\n",
       "      <th>SepalLengthCm</th>\n",
       "      <th>SepalWidthCm</th>\n",
       "      <th>PetalLengthCm</th>\n",
       "      <th>PetalWidthCm</th>\n",
       "      <th>Species</th>\n",
       "    </tr>\n",
       "  </thead>\n",
       "  <tbody>\n",
       "    <tr>\n",
       "      <th>0</th>\n",
       "      <td>1</td>\n",
       "      <td>5.1</td>\n",
       "      <td>3.5</td>\n",
       "      <td>1.4</td>\n",
       "      <td>0.2</td>\n",
       "      <td>Iris-setosa</td>\n",
       "    </tr>\n",
       "    <tr>\n",
       "      <th>1</th>\n",
       "      <td>2</td>\n",
       "      <td>4.9</td>\n",
       "      <td>3.0</td>\n",
       "      <td>1.4</td>\n",
       "      <td>0.2</td>\n",
       "      <td>Iris-setosa</td>\n",
       "    </tr>\n",
       "    <tr>\n",
       "      <th>2</th>\n",
       "      <td>3</td>\n",
       "      <td>4.7</td>\n",
       "      <td>3.2</td>\n",
       "      <td>1.3</td>\n",
       "      <td>0.2</td>\n",
       "      <td>Iris-setosa</td>\n",
       "    </tr>\n",
       "    <tr>\n",
       "      <th>3</th>\n",
       "      <td>4</td>\n",
       "      <td>4.6</td>\n",
       "      <td>3.1</td>\n",
       "      <td>1.5</td>\n",
       "      <td>0.2</td>\n",
       "      <td>Iris-setosa</td>\n",
       "    </tr>\n",
       "    <tr>\n",
       "      <th>4</th>\n",
       "      <td>5</td>\n",
       "      <td>5.0</td>\n",
       "      <td>3.6</td>\n",
       "      <td>1.4</td>\n",
       "      <td>0.2</td>\n",
       "      <td>Iris-setosa</td>\n",
       "    </tr>\n",
       "  </tbody>\n",
       "</table>\n",
       "</div>"
      ],
      "text/plain": [
       "   Id  SepalLengthCm  SepalWidthCm  PetalLengthCm  PetalWidthCm      Species\n",
       "0   1            5.1           3.5            1.4           0.2  Iris-setosa\n",
       "1   2            4.9           3.0            1.4           0.2  Iris-setosa\n",
       "2   3            4.7           3.2            1.3           0.2  Iris-setosa\n",
       "3   4            4.6           3.1            1.5           0.2  Iris-setosa\n",
       "4   5            5.0           3.6            1.4           0.2  Iris-setosa"
      ]
     },
     "execution_count": 19,
     "metadata": {},
     "output_type": "execute_result"
    }
   ],
   "source": [
    "df.head()"
   ]
  },
  {
   "cell_type": "code",
   "execution_count": 20,
   "id": "a7beae6b",
   "metadata": {},
   "outputs": [
    {
     "data": {
      "text/html": [
       "<div>\n",
       "<style scoped>\n",
       "    .dataframe tbody tr th:only-of-type {\n",
       "        vertical-align: middle;\n",
       "    }\n",
       "\n",
       "    .dataframe tbody tr th {\n",
       "        vertical-align: top;\n",
       "    }\n",
       "\n",
       "    .dataframe thead tr th {\n",
       "        text-align: left;\n",
       "    }\n",
       "\n",
       "    .dataframe thead tr:last-of-type th {\n",
       "        text-align: right;\n",
       "    }\n",
       "</style>\n",
       "<table border=\"1\" class=\"dataframe\">\n",
       "  <thead>\n",
       "    <tr>\n",
       "      <th></th>\n",
       "      <th colspan=\"8\" halign=\"left\">Id</th>\n",
       "      <th colspan=\"2\" halign=\"left\">SepalLengthCm</th>\n",
       "      <th>...</th>\n",
       "      <th colspan=\"2\" halign=\"left\">PetalLengthCm</th>\n",
       "      <th colspan=\"8\" halign=\"left\">PetalWidthCm</th>\n",
       "    </tr>\n",
       "    <tr>\n",
       "      <th></th>\n",
       "      <th>count</th>\n",
       "      <th>mean</th>\n",
       "      <th>std</th>\n",
       "      <th>min</th>\n",
       "      <th>25%</th>\n",
       "      <th>50%</th>\n",
       "      <th>75%</th>\n",
       "      <th>max</th>\n",
       "      <th>count</th>\n",
       "      <th>mean</th>\n",
       "      <th>...</th>\n",
       "      <th>75%</th>\n",
       "      <th>max</th>\n",
       "      <th>count</th>\n",
       "      <th>mean</th>\n",
       "      <th>std</th>\n",
       "      <th>min</th>\n",
       "      <th>25%</th>\n",
       "      <th>50%</th>\n",
       "      <th>75%</th>\n",
       "      <th>max</th>\n",
       "    </tr>\n",
       "    <tr>\n",
       "      <th>Species</th>\n",
       "      <th></th>\n",
       "      <th></th>\n",
       "      <th></th>\n",
       "      <th></th>\n",
       "      <th></th>\n",
       "      <th></th>\n",
       "      <th></th>\n",
       "      <th></th>\n",
       "      <th></th>\n",
       "      <th></th>\n",
       "      <th></th>\n",
       "      <th></th>\n",
       "      <th></th>\n",
       "      <th></th>\n",
       "      <th></th>\n",
       "      <th></th>\n",
       "      <th></th>\n",
       "      <th></th>\n",
       "      <th></th>\n",
       "      <th></th>\n",
       "      <th></th>\n",
       "    </tr>\n",
       "  </thead>\n",
       "  <tbody>\n",
       "    <tr>\n",
       "      <th>Iris-setosa</th>\n",
       "      <td>50.0</td>\n",
       "      <td>25.5</td>\n",
       "      <td>14.57738</td>\n",
       "      <td>1.0</td>\n",
       "      <td>13.25</td>\n",
       "      <td>25.5</td>\n",
       "      <td>37.75</td>\n",
       "      <td>50.0</td>\n",
       "      <td>50.0</td>\n",
       "      <td>5.006</td>\n",
       "      <td>...</td>\n",
       "      <td>1.575</td>\n",
       "      <td>1.9</td>\n",
       "      <td>50.0</td>\n",
       "      <td>0.244</td>\n",
       "      <td>0.107210</td>\n",
       "      <td>0.1</td>\n",
       "      <td>0.2</td>\n",
       "      <td>0.2</td>\n",
       "      <td>0.3</td>\n",
       "      <td>0.6</td>\n",
       "    </tr>\n",
       "    <tr>\n",
       "      <th>Iris-versicolor</th>\n",
       "      <td>50.0</td>\n",
       "      <td>75.5</td>\n",
       "      <td>14.57738</td>\n",
       "      <td>51.0</td>\n",
       "      <td>63.25</td>\n",
       "      <td>75.5</td>\n",
       "      <td>87.75</td>\n",
       "      <td>100.0</td>\n",
       "      <td>50.0</td>\n",
       "      <td>5.936</td>\n",
       "      <td>...</td>\n",
       "      <td>4.600</td>\n",
       "      <td>5.1</td>\n",
       "      <td>50.0</td>\n",
       "      <td>1.326</td>\n",
       "      <td>0.197753</td>\n",
       "      <td>1.0</td>\n",
       "      <td>1.2</td>\n",
       "      <td>1.3</td>\n",
       "      <td>1.5</td>\n",
       "      <td>1.8</td>\n",
       "    </tr>\n",
       "    <tr>\n",
       "      <th>Iris-virginica</th>\n",
       "      <td>50.0</td>\n",
       "      <td>125.5</td>\n",
       "      <td>14.57738</td>\n",
       "      <td>101.0</td>\n",
       "      <td>113.25</td>\n",
       "      <td>125.5</td>\n",
       "      <td>137.75</td>\n",
       "      <td>150.0</td>\n",
       "      <td>50.0</td>\n",
       "      <td>6.588</td>\n",
       "      <td>...</td>\n",
       "      <td>5.875</td>\n",
       "      <td>6.9</td>\n",
       "      <td>50.0</td>\n",
       "      <td>2.026</td>\n",
       "      <td>0.274650</td>\n",
       "      <td>1.4</td>\n",
       "      <td>1.8</td>\n",
       "      <td>2.0</td>\n",
       "      <td>2.3</td>\n",
       "      <td>2.5</td>\n",
       "    </tr>\n",
       "  </tbody>\n",
       "</table>\n",
       "<p>3 rows × 40 columns</p>\n",
       "</div>"
      ],
      "text/plain": [
       "                   Id                                                        \\\n",
       "                count   mean       std    min     25%    50%     75%    max   \n",
       "Species                                                                       \n",
       "Iris-setosa      50.0   25.5  14.57738    1.0   13.25   25.5   37.75   50.0   \n",
       "Iris-versicolor  50.0   75.5  14.57738   51.0   63.25   75.5   87.75  100.0   \n",
       "Iris-virginica   50.0  125.5  14.57738  101.0  113.25  125.5  137.75  150.0   \n",
       "\n",
       "                SepalLengthCm         ... PetalLengthCm      PetalWidthCm  \\\n",
       "                        count   mean  ...           75%  max        count   \n",
       "Species                               ...                                   \n",
       "Iris-setosa              50.0  5.006  ...         1.575  1.9         50.0   \n",
       "Iris-versicolor          50.0  5.936  ...         4.600  5.1         50.0   \n",
       "Iris-virginica           50.0  6.588  ...         5.875  6.9         50.0   \n",
       "\n",
       "                                                           \n",
       "                  mean       std  min  25%  50%  75%  max  \n",
       "Species                                                    \n",
       "Iris-setosa      0.244  0.107210  0.1  0.2  0.2  0.3  0.6  \n",
       "Iris-versicolor  1.326  0.197753  1.0  1.2  1.3  1.5  1.8  \n",
       "Iris-virginica   2.026  0.274650  1.4  1.8  2.0  2.3  2.5  \n",
       "\n",
       "[3 rows x 40 columns]"
      ]
     },
     "execution_count": 20,
     "metadata": {},
     "output_type": "execute_result"
    }
   ],
   "source": [
    "dfgrouped = df.groupby('Species',axis=0)\n",
    "# Grouping by species and storing in a new Dataframe\n",
    "dfgrouped.describe()"
   ]
  },
  {
   "cell_type": "code",
   "execution_count": 21,
   "id": "83f4967a",
   "metadata": {},
   "outputs": [
    {
     "data": {
      "text/html": [
       "<div>\n",
       "<style scoped>\n",
       "    .dataframe tbody tr th:only-of-type {\n",
       "        vertical-align: middle;\n",
       "    }\n",
       "\n",
       "    .dataframe tbody tr th {\n",
       "        vertical-align: top;\n",
       "    }\n",
       "\n",
       "    .dataframe thead th {\n",
       "        text-align: right;\n",
       "    }\n",
       "</style>\n",
       "<table border=\"1\" class=\"dataframe\">\n",
       "  <thead>\n",
       "    <tr style=\"text-align: right;\">\n",
       "      <th></th>\n",
       "      <th>Id</th>\n",
       "      <th>SepalLengthCm</th>\n",
       "      <th>SepalWidthCm</th>\n",
       "      <th>PetalLengthCm</th>\n",
       "      <th>PetalWidthCm</th>\n",
       "      <th>Species</th>\n",
       "    </tr>\n",
       "  </thead>\n",
       "  <tbody>\n",
       "    <tr>\n",
       "      <th>0</th>\n",
       "      <td>1</td>\n",
       "      <td>5.1</td>\n",
       "      <td>3.5</td>\n",
       "      <td>1.4</td>\n",
       "      <td>0.2</td>\n",
       "      <td>Iris-setosa</td>\n",
       "    </tr>\n",
       "    <tr>\n",
       "      <th>1</th>\n",
       "      <td>2</td>\n",
       "      <td>4.9</td>\n",
       "      <td>3.0</td>\n",
       "      <td>1.4</td>\n",
       "      <td>0.2</td>\n",
       "      <td>Iris-setosa</td>\n",
       "    </tr>\n",
       "    <tr>\n",
       "      <th>2</th>\n",
       "      <td>3</td>\n",
       "      <td>4.7</td>\n",
       "      <td>3.2</td>\n",
       "      <td>1.3</td>\n",
       "      <td>0.2</td>\n",
       "      <td>Iris-setosa</td>\n",
       "    </tr>\n",
       "    <tr>\n",
       "      <th>3</th>\n",
       "      <td>4</td>\n",
       "      <td>4.6</td>\n",
       "      <td>3.1</td>\n",
       "      <td>1.5</td>\n",
       "      <td>0.2</td>\n",
       "      <td>Iris-setosa</td>\n",
       "    </tr>\n",
       "    <tr>\n",
       "      <th>4</th>\n",
       "      <td>5</td>\n",
       "      <td>5.0</td>\n",
       "      <td>3.6</td>\n",
       "      <td>1.4</td>\n",
       "      <td>0.2</td>\n",
       "      <td>Iris-setosa</td>\n",
       "    </tr>\n",
       "    <tr>\n",
       "      <th>50</th>\n",
       "      <td>51</td>\n",
       "      <td>7.0</td>\n",
       "      <td>3.2</td>\n",
       "      <td>4.7</td>\n",
       "      <td>1.4</td>\n",
       "      <td>Iris-versicolor</td>\n",
       "    </tr>\n",
       "    <tr>\n",
       "      <th>51</th>\n",
       "      <td>52</td>\n",
       "      <td>6.4</td>\n",
       "      <td>3.2</td>\n",
       "      <td>4.5</td>\n",
       "      <td>1.5</td>\n",
       "      <td>Iris-versicolor</td>\n",
       "    </tr>\n",
       "    <tr>\n",
       "      <th>52</th>\n",
       "      <td>53</td>\n",
       "      <td>6.9</td>\n",
       "      <td>3.1</td>\n",
       "      <td>4.9</td>\n",
       "      <td>1.5</td>\n",
       "      <td>Iris-versicolor</td>\n",
       "    </tr>\n",
       "    <tr>\n",
       "      <th>53</th>\n",
       "      <td>54</td>\n",
       "      <td>5.5</td>\n",
       "      <td>2.3</td>\n",
       "      <td>4.0</td>\n",
       "      <td>1.3</td>\n",
       "      <td>Iris-versicolor</td>\n",
       "    </tr>\n",
       "    <tr>\n",
       "      <th>54</th>\n",
       "      <td>55</td>\n",
       "      <td>6.5</td>\n",
       "      <td>2.8</td>\n",
       "      <td>4.6</td>\n",
       "      <td>1.5</td>\n",
       "      <td>Iris-versicolor</td>\n",
       "    </tr>\n",
       "    <tr>\n",
       "      <th>100</th>\n",
       "      <td>101</td>\n",
       "      <td>6.3</td>\n",
       "      <td>3.3</td>\n",
       "      <td>6.0</td>\n",
       "      <td>2.5</td>\n",
       "      <td>Iris-virginica</td>\n",
       "    </tr>\n",
       "    <tr>\n",
       "      <th>101</th>\n",
       "      <td>102</td>\n",
       "      <td>5.8</td>\n",
       "      <td>2.7</td>\n",
       "      <td>5.1</td>\n",
       "      <td>1.9</td>\n",
       "      <td>Iris-virginica</td>\n",
       "    </tr>\n",
       "    <tr>\n",
       "      <th>102</th>\n",
       "      <td>103</td>\n",
       "      <td>7.1</td>\n",
       "      <td>3.0</td>\n",
       "      <td>5.9</td>\n",
       "      <td>2.1</td>\n",
       "      <td>Iris-virginica</td>\n",
       "    </tr>\n",
       "    <tr>\n",
       "      <th>103</th>\n",
       "      <td>104</td>\n",
       "      <td>6.3</td>\n",
       "      <td>2.9</td>\n",
       "      <td>5.6</td>\n",
       "      <td>1.8</td>\n",
       "      <td>Iris-virginica</td>\n",
       "    </tr>\n",
       "    <tr>\n",
       "      <th>104</th>\n",
       "      <td>105</td>\n",
       "      <td>6.5</td>\n",
       "      <td>3.0</td>\n",
       "      <td>5.8</td>\n",
       "      <td>2.2</td>\n",
       "      <td>Iris-virginica</td>\n",
       "    </tr>\n",
       "  </tbody>\n",
       "</table>\n",
       "</div>"
      ],
      "text/plain": [
       "      Id  SepalLengthCm  SepalWidthCm  PetalLengthCm  PetalWidthCm  \\\n",
       "0      1            5.1           3.5            1.4           0.2   \n",
       "1      2            4.9           3.0            1.4           0.2   \n",
       "2      3            4.7           3.2            1.3           0.2   \n",
       "3      4            4.6           3.1            1.5           0.2   \n",
       "4      5            5.0           3.6            1.4           0.2   \n",
       "50    51            7.0           3.2            4.7           1.4   \n",
       "51    52            6.4           3.2            4.5           1.5   \n",
       "52    53            6.9           3.1            4.9           1.5   \n",
       "53    54            5.5           2.3            4.0           1.3   \n",
       "54    55            6.5           2.8            4.6           1.5   \n",
       "100  101            6.3           3.3            6.0           2.5   \n",
       "101  102            5.8           2.7            5.1           1.9   \n",
       "102  103            7.1           3.0            5.9           2.1   \n",
       "103  104            6.3           2.9            5.6           1.8   \n",
       "104  105            6.5           3.0            5.8           2.2   \n",
       "\n",
       "             Species  \n",
       "0        Iris-setosa  \n",
       "1        Iris-setosa  \n",
       "2        Iris-setosa  \n",
       "3        Iris-setosa  \n",
       "4        Iris-setosa  \n",
       "50   Iris-versicolor  \n",
       "51   Iris-versicolor  \n",
       "52   Iris-versicolor  \n",
       "53   Iris-versicolor  \n",
       "54   Iris-versicolor  \n",
       "100   Iris-virginica  \n",
       "101   Iris-virginica  \n",
       "102   Iris-virginica  \n",
       "103   Iris-virginica  \n",
       "104   Iris-virginica  "
      ]
     },
     "execution_count": 21,
     "metadata": {},
     "output_type": "execute_result"
    }
   ],
   "source": [
    "dfgrouped.head()"
   ]
  },
  {
   "cell_type": "code",
   "execution_count": 22,
   "id": "26fb409d",
   "metadata": {},
   "outputs": [
    {
     "name": "stdout",
     "output_type": "stream",
     "text": [
      "mean of different columsn grouped by Species:\n",
      "                 SepalLengthCm  SepalWidthCm  PetalLengthCm  PetalWidthCm\n",
      "Species                                                                  \n",
      "Iris-setosa              5.006         3.418          1.464         0.244\n",
      "Iris-versicolor          5.936         2.770          4.260         1.326\n",
      "Iris-virginica           6.588         2.974          5.552         2.026\n"
     ]
    },
    {
     "name": "stderr",
     "output_type": "stream",
     "text": [
      "/tmp/ipykernel_5019/1541865086.py:3: FutureWarning: Indexing with multiple keys (implicitly converted to a tuple of keys) will be deprecated, use a list instead.\n",
      "  mean_sepallength = df.groupby(['Species'])['SepalLengthCm','SepalWidthCm','PetalLengthCm','PetalWidthCm'].mean()\n"
     ]
    }
   ],
   "source": [
    "# Mean using package\n",
    "\n",
    "mean_sepallength = df.groupby(['Species'])['SepalLengthCm','SepalWidthCm','PetalLengthCm','PetalWidthCm'].mean()\n",
    "\n",
    "print(\"mean of different columsn grouped by Species:\");\n",
    "print(mean_sepallength)"
   ]
  },
  {
   "cell_type": "code",
   "execution_count": 45,
   "id": "0376e72a",
   "metadata": {},
   "outputs": [],
   "source": [
    "dfsetosa = df[df['Species'] == 'Iris-setosa'] \n",
    "#Creating Different Dataframe for data with Specie as Iris-setosa\n",
    "# similarly for versicolor and veriginica\n",
    "dfversicolor = df[df['Species'] == 'Iris-versicolor']\n",
    "dfverinica = df[df['Species'] == 'Iris-virginica']\n"
   ]
  },
  {
   "cell_type": "code",
   "execution_count": 24,
   "id": "b5209fcc",
   "metadata": {},
   "outputs": [
    {
     "data": {
      "text/html": [
       "<div>\n",
       "<style scoped>\n",
       "    .dataframe tbody tr th:only-of-type {\n",
       "        vertical-align: middle;\n",
       "    }\n",
       "\n",
       "    .dataframe tbody tr th {\n",
       "        vertical-align: top;\n",
       "    }\n",
       "\n",
       "    .dataframe thead th {\n",
       "        text-align: right;\n",
       "    }\n",
       "</style>\n",
       "<table border=\"1\" class=\"dataframe\">\n",
       "  <thead>\n",
       "    <tr style=\"text-align: right;\">\n",
       "      <th></th>\n",
       "      <th>Id</th>\n",
       "      <th>SepalLengthCm</th>\n",
       "      <th>SepalWidthCm</th>\n",
       "      <th>PetalLengthCm</th>\n",
       "      <th>PetalWidthCm</th>\n",
       "      <th>Species</th>\n",
       "    </tr>\n",
       "  </thead>\n",
       "  <tbody>\n",
       "    <tr>\n",
       "      <th>0</th>\n",
       "      <td>1</td>\n",
       "      <td>5.1</td>\n",
       "      <td>3.5</td>\n",
       "      <td>1.4</td>\n",
       "      <td>0.2</td>\n",
       "      <td>Iris-setosa</td>\n",
       "    </tr>\n",
       "    <tr>\n",
       "      <th>1</th>\n",
       "      <td>2</td>\n",
       "      <td>4.9</td>\n",
       "      <td>3.0</td>\n",
       "      <td>1.4</td>\n",
       "      <td>0.2</td>\n",
       "      <td>Iris-setosa</td>\n",
       "    </tr>\n",
       "    <tr>\n",
       "      <th>2</th>\n",
       "      <td>3</td>\n",
       "      <td>4.7</td>\n",
       "      <td>3.2</td>\n",
       "      <td>1.3</td>\n",
       "      <td>0.2</td>\n",
       "      <td>Iris-setosa</td>\n",
       "    </tr>\n",
       "    <tr>\n",
       "      <th>3</th>\n",
       "      <td>4</td>\n",
       "      <td>4.6</td>\n",
       "      <td>3.1</td>\n",
       "      <td>1.5</td>\n",
       "      <td>0.2</td>\n",
       "      <td>Iris-setosa</td>\n",
       "    </tr>\n",
       "    <tr>\n",
       "      <th>4</th>\n",
       "      <td>5</td>\n",
       "      <td>5.0</td>\n",
       "      <td>3.6</td>\n",
       "      <td>1.4</td>\n",
       "      <td>0.2</td>\n",
       "      <td>Iris-setosa</td>\n",
       "    </tr>\n",
       "  </tbody>\n",
       "</table>\n",
       "</div>"
      ],
      "text/plain": [
       "   Id  SepalLengthCm  SepalWidthCm  PetalLengthCm  PetalWidthCm      Species\n",
       "0   1            5.1           3.5            1.4           0.2  Iris-setosa\n",
       "1   2            4.9           3.0            1.4           0.2  Iris-setosa\n",
       "2   3            4.7           3.2            1.3           0.2  Iris-setosa\n",
       "3   4            4.6           3.1            1.5           0.2  Iris-setosa\n",
       "4   5            5.0           3.6            1.4           0.2  Iris-setosa"
      ]
     },
     "execution_count": 24,
     "metadata": {},
     "output_type": "execute_result"
    }
   ],
   "source": [
    "dfsetosa.head()"
   ]
  },
  {
   "cell_type": "code",
   "execution_count": 25,
   "id": "9990f8ae",
   "metadata": {},
   "outputs": [
    {
     "data": {
      "text/html": [
       "<div>\n",
       "<style scoped>\n",
       "    .dataframe tbody tr th:only-of-type {\n",
       "        vertical-align: middle;\n",
       "    }\n",
       "\n",
       "    .dataframe tbody tr th {\n",
       "        vertical-align: top;\n",
       "    }\n",
       "\n",
       "    .dataframe thead th {\n",
       "        text-align: right;\n",
       "    }\n",
       "</style>\n",
       "<table border=\"1\" class=\"dataframe\">\n",
       "  <thead>\n",
       "    <tr style=\"text-align: right;\">\n",
       "      <th></th>\n",
       "      <th>Id</th>\n",
       "      <th>SepalLengthCm</th>\n",
       "      <th>SepalWidthCm</th>\n",
       "      <th>PetalLengthCm</th>\n",
       "      <th>PetalWidthCm</th>\n",
       "      <th>Species</th>\n",
       "    </tr>\n",
       "  </thead>\n",
       "  <tbody>\n",
       "    <tr>\n",
       "      <th>50</th>\n",
       "      <td>51</td>\n",
       "      <td>7.0</td>\n",
       "      <td>3.2</td>\n",
       "      <td>4.7</td>\n",
       "      <td>1.4</td>\n",
       "      <td>Iris-versicolor</td>\n",
       "    </tr>\n",
       "    <tr>\n",
       "      <th>51</th>\n",
       "      <td>52</td>\n",
       "      <td>6.4</td>\n",
       "      <td>3.2</td>\n",
       "      <td>4.5</td>\n",
       "      <td>1.5</td>\n",
       "      <td>Iris-versicolor</td>\n",
       "    </tr>\n",
       "    <tr>\n",
       "      <th>52</th>\n",
       "      <td>53</td>\n",
       "      <td>6.9</td>\n",
       "      <td>3.1</td>\n",
       "      <td>4.9</td>\n",
       "      <td>1.5</td>\n",
       "      <td>Iris-versicolor</td>\n",
       "    </tr>\n",
       "    <tr>\n",
       "      <th>53</th>\n",
       "      <td>54</td>\n",
       "      <td>5.5</td>\n",
       "      <td>2.3</td>\n",
       "      <td>4.0</td>\n",
       "      <td>1.3</td>\n",
       "      <td>Iris-versicolor</td>\n",
       "    </tr>\n",
       "    <tr>\n",
       "      <th>54</th>\n",
       "      <td>55</td>\n",
       "      <td>6.5</td>\n",
       "      <td>2.8</td>\n",
       "      <td>4.6</td>\n",
       "      <td>1.5</td>\n",
       "      <td>Iris-versicolor</td>\n",
       "    </tr>\n",
       "  </tbody>\n",
       "</table>\n",
       "</div>"
      ],
      "text/plain": [
       "    Id  SepalLengthCm  SepalWidthCm  PetalLengthCm  PetalWidthCm  \\\n",
       "50  51            7.0           3.2            4.7           1.4   \n",
       "51  52            6.4           3.2            4.5           1.5   \n",
       "52  53            6.9           3.1            4.9           1.5   \n",
       "53  54            5.5           2.3            4.0           1.3   \n",
       "54  55            6.5           2.8            4.6           1.5   \n",
       "\n",
       "            Species  \n",
       "50  Iris-versicolor  \n",
       "51  Iris-versicolor  \n",
       "52  Iris-versicolor  \n",
       "53  Iris-versicolor  \n",
       "54  Iris-versicolor  "
      ]
     },
     "execution_count": 25,
     "metadata": {},
     "output_type": "execute_result"
    }
   ],
   "source": [
    "dfversicolor.head()"
   ]
  },
  {
   "cell_type": "code",
   "execution_count": 26,
   "id": "9a9ac310",
   "metadata": {},
   "outputs": [
    {
     "data": {
      "text/html": [
       "<div>\n",
       "<style scoped>\n",
       "    .dataframe tbody tr th:only-of-type {\n",
       "        vertical-align: middle;\n",
       "    }\n",
       "\n",
       "    .dataframe tbody tr th {\n",
       "        vertical-align: top;\n",
       "    }\n",
       "\n",
       "    .dataframe thead th {\n",
       "        text-align: right;\n",
       "    }\n",
       "</style>\n",
       "<table border=\"1\" class=\"dataframe\">\n",
       "  <thead>\n",
       "    <tr style=\"text-align: right;\">\n",
       "      <th></th>\n",
       "      <th>Id</th>\n",
       "      <th>SepalLengthCm</th>\n",
       "      <th>SepalWidthCm</th>\n",
       "      <th>PetalLengthCm</th>\n",
       "      <th>PetalWidthCm</th>\n",
       "      <th>Species</th>\n",
       "    </tr>\n",
       "  </thead>\n",
       "  <tbody>\n",
       "    <tr>\n",
       "      <th>100</th>\n",
       "      <td>101</td>\n",
       "      <td>6.3</td>\n",
       "      <td>3.3</td>\n",
       "      <td>6.0</td>\n",
       "      <td>2.5</td>\n",
       "      <td>Iris-virginica</td>\n",
       "    </tr>\n",
       "    <tr>\n",
       "      <th>101</th>\n",
       "      <td>102</td>\n",
       "      <td>5.8</td>\n",
       "      <td>2.7</td>\n",
       "      <td>5.1</td>\n",
       "      <td>1.9</td>\n",
       "      <td>Iris-virginica</td>\n",
       "    </tr>\n",
       "    <tr>\n",
       "      <th>102</th>\n",
       "      <td>103</td>\n",
       "      <td>7.1</td>\n",
       "      <td>3.0</td>\n",
       "      <td>5.9</td>\n",
       "      <td>2.1</td>\n",
       "      <td>Iris-virginica</td>\n",
       "    </tr>\n",
       "    <tr>\n",
       "      <th>103</th>\n",
       "      <td>104</td>\n",
       "      <td>6.3</td>\n",
       "      <td>2.9</td>\n",
       "      <td>5.6</td>\n",
       "      <td>1.8</td>\n",
       "      <td>Iris-virginica</td>\n",
       "    </tr>\n",
       "    <tr>\n",
       "      <th>104</th>\n",
       "      <td>105</td>\n",
       "      <td>6.5</td>\n",
       "      <td>3.0</td>\n",
       "      <td>5.8</td>\n",
       "      <td>2.2</td>\n",
       "      <td>Iris-virginica</td>\n",
       "    </tr>\n",
       "  </tbody>\n",
       "</table>\n",
       "</div>"
      ],
      "text/plain": [
       "      Id  SepalLengthCm  SepalWidthCm  PetalLengthCm  PetalWidthCm  \\\n",
       "100  101            6.3           3.3            6.0           2.5   \n",
       "101  102            5.8           2.7            5.1           1.9   \n",
       "102  103            7.1           3.0            5.9           2.1   \n",
       "103  104            6.3           2.9            5.6           1.8   \n",
       "104  105            6.5           3.0            5.8           2.2   \n",
       "\n",
       "            Species  \n",
       "100  Iris-virginica  \n",
       "101  Iris-virginica  \n",
       "102  Iris-virginica  \n",
       "103  Iris-virginica  \n",
       "104  Iris-virginica  "
      ]
     },
     "execution_count": 26,
     "metadata": {},
     "output_type": "execute_result"
    }
   ],
   "source": [
    "dfverinica.head()"
   ]
  },
  {
   "cell_type": "code",
   "execution_count": 27,
   "id": "0a05de76",
   "metadata": {},
   "outputs": [
    {
     "name": "stdout",
     "output_type": "stream",
     "text": [
      "percentile of SepalLength(25) 4.8\n",
      "percentile of SepalLength(50) 5.0\n",
      "percentile of SepalLength(75) 5.2\n",
      "percentile of SepalLength(100) 5.8\n",
      "percentile of SepalWidth(25) 3.125\n",
      "percentile of SepalWidth(50) 3.4\n",
      "percentile of SepalWidth(75) 3.6750000000000003\n",
      "percentile of SepalWidth(100) 4.4\n",
      "percentile of PetalLength(25) 1.4\n",
      "percentile of PetalLength(50) 1.5\n",
      "percentile of PetalLength(75) 1.5750000000000002\n",
      "percentile of PetalLength(100) 1.9\n",
      "percentile of PetalWidth(25) 0.2\n",
      "percentile of PetalWidth(50) 0.2\n",
      "percentile of PetalWidth(75) 0.3\n",
      "percentile of PetalWidth(100) 0.6\n"
     ]
    }
   ],
   "source": [
    "#percentile of SepalLength for Setosa\n",
    "\n",
    "print(\"percentile of SepalLength(25)\", np.percentile(dfsetosa['SepalLengthCm'],25.0))\n",
    "print(\"percentile of SepalLength(50)\", np.percentile(dfsetosa['SepalLengthCm'],50.0))\n",
    "print(\"percentile of SepalLength(75)\", np.percentile(dfsetosa['SepalLengthCm'],75.0))\n",
    "print(\"percentile of SepalLength(100)\", np.percentile(dfsetosa['SepalLengthCm'],100.0))\n",
    "\n",
    "#percentile of SepalWidth for Setosa\n",
    "\n",
    "print(\"percentile of SepalWidth(25)\", np.percentile(dfsetosa['SepalWidthCm'],25.0))\n",
    "print(\"percentile of SepalWidth(50)\", np.percentile(dfsetosa['SepalWidthCm'],50.0))\n",
    "print(\"percentile of SepalWidth(75)\", np.percentile(dfsetosa['SepalWidthCm'],75.0))\n",
    "print(\"percentile of SepalWidth(100)\", np.percentile(dfsetosa['SepalWidthCm'],100.0))\n",
    "\n",
    "\n",
    "#percentile of PetalLength for Setosa\n",
    "\n",
    "print(\"percentile of PetalLength(25)\", np.percentile(dfsetosa['PetalLengthCm'],25.0))\n",
    "print(\"percentile of PetalLength(50)\", np.percentile(dfsetosa['PetalLengthCm'],50.0))\n",
    "print(\"percentile of PetalLength(75)\", np.percentile(dfsetosa['PetalLengthCm'],75.0))\n",
    "print(\"percentile of PetalLength(100)\", np.percentile(dfsetosa['PetalLengthCm'],100.0))\n",
    "\n",
    "#percentile of PetalWidth for Setosa\n",
    "\n",
    "print(\"percentile of PetalWidth(25)\", np.percentile(dfsetosa['PetalWidthCm'],25.0))\n",
    "print(\"percentile of PetalWidth(50)\", np.percentile(dfsetosa['PetalWidthCm'],50.0))\n",
    "print(\"percentile of PetalWidth(75)\", np.percentile(dfsetosa['PetalWidthCm'],75.0))\n",
    "print(\"percentile of PetalWidth(100)\", np.percentile(dfsetosa['PetalWidthCm'],100.0))"
   ]
  },
  {
   "cell_type": "code",
   "execution_count": 28,
   "id": "358bf7c1",
   "metadata": {},
   "outputs": [
    {
     "name": "stdout",
     "output_type": "stream",
     "text": [
      "percentile of SepalLength(25) 5.6\n",
      "percentile of SepalLength(50) 5.9\n",
      "percentile of SepalLength(75) 6.3\n",
      "percentile of SepalLength(100) 7.0\n",
      "percentile of SepalWidth(25) 2.525\n",
      "percentile of SepalWidth(50) 2.8\n",
      "percentile of SepalWidth(75) 3.0\n",
      "percentile of SepalWidth(100) 3.4\n",
      "percentile of PetalLength(25) 4.0\n",
      "percentile of PetalLength(50) 4.35\n",
      "percentile of PetalLength(75) 4.6\n",
      "percentile of PetalLength(100) 5.1\n",
      "percentile of PetalWidth(25) 1.2\n",
      "percentile of PetalWidth(50) 1.3\n",
      "percentile of PetalWidth(75) 1.5\n",
      "percentile of PetalWidth(100) 1.8\n"
     ]
    }
   ],
   "source": [
    "#percentile of SepalLength for Versicolor\n",
    "\n",
    "print(\"percentile of SepalLength(25)\", np.percentile(dfversicolor['SepalLengthCm'],25.0))\n",
    "print(\"percentile of SepalLength(50)\", np.percentile(dfversicolor['SepalLengthCm'],50.0))\n",
    "print(\"percentile of SepalLength(75)\", np.percentile(dfversicolor['SepalLengthCm'],75.0))\n",
    "print(\"percentile of SepalLength(100)\", np.percentile(dfversicolor['SepalLengthCm'],100.0))\n",
    "\n",
    "#percentile of SepalWidth for Versicolor\n",
    "\n",
    "print(\"percentile of SepalWidth(25)\", np.percentile(dfversicolor['SepalWidthCm'],25.0))\n",
    "print(\"percentile of SepalWidth(50)\", np.percentile(dfversicolor['SepalWidthCm'],50.0))\n",
    "print(\"percentile of SepalWidth(75)\", np.percentile(dfversicolor['SepalWidthCm'],75.0))\n",
    "print(\"percentile of SepalWidth(100)\", np.percentile(dfversicolor['SepalWidthCm'],100.0))\n",
    "\n",
    "\n",
    "#percentile of PetalLength for Versicolor\n",
    "\n",
    "print(\"percentile of PetalLength(25)\", np.percentile(dfversicolor['PetalLengthCm'],25.0))\n",
    "print(\"percentile of PetalLength(50)\", np.percentile(dfversicolor['PetalLengthCm'],50.0))\n",
    "print(\"percentile of PetalLength(75)\", np.percentile(dfversicolor['PetalLengthCm'],75.0))\n",
    "print(\"percentile of PetalLength(100)\", np.percentile(dfversicolor['PetalLengthCm'],100.0))\n",
    "\n",
    "#percentile of PetalWidth for Versicolor\n",
    "\n",
    "print(\"percentile of PetalWidth(25)\", np.percentile(dfversicolor['PetalWidthCm'],25.0))\n",
    "print(\"percentile of PetalWidth(50)\", np.percentile(dfversicolor['PetalWidthCm'],50.0))\n",
    "print(\"percentile of PetalWidth(75)\", np.percentile(dfversicolor['PetalWidthCm'],75.0))\n",
    "print(\"percentile of PetalWidth(100)\", np.percentile(dfversicolor['PetalWidthCm'],100.0))"
   ]
  },
  {
   "cell_type": "code",
   "execution_count": 29,
   "id": "a41c98c0",
   "metadata": {},
   "outputs": [
    {
     "name": "stdout",
     "output_type": "stream",
     "text": [
      "percentile of SepalLength(25) 6.225\n",
      "percentile of SepalLength(50) 6.5\n",
      "percentile of SepalLength(75) 6.9\n",
      "percentile of SepalLength(100) 7.9\n",
      "percentile of SepalWidth(25) 2.8\n",
      "percentile of SepalWidth(50) 3.0\n",
      "percentile of SepalWidth(75) 3.1750000000000003\n",
      "percentile of SepalWidth(100) 3.8\n",
      "percentile of PetalLength(25) 5.1\n",
      "percentile of PetalLength(50) 5.55\n",
      "percentile of PetalLength(75) 5.875\n",
      "percentile of PetalLength(100) 6.9\n",
      "percentile of PetalWidth(25) 1.8\n",
      "percentile of PetalWidth(50) 2.0\n",
      "percentile of PetalWidth(75) 2.3\n",
      "percentile of PetalWidth(100) 2.5\n"
     ]
    }
   ],
   "source": [
    "#percentile of SepalLength for Virginica\n",
    "\n",
    "print(\"percentile of SepalLength(25)\", np.percentile(dfverinica['SepalLengthCm'],25.0))\n",
    "print(\"percentile of SepalLength(50)\", np.percentile(dfverinica['SepalLengthCm'],50.0))\n",
    "print(\"percentile of SepalLength(75)\", np.percentile(dfverinica['SepalLengthCm'],75.0))\n",
    "print(\"percentile of SepalLength(100)\", np.percentile(dfverinica['SepalLengthCm'],100.0))\n",
    "\n",
    "#percentile of SepalWidth for Virginica\n",
    "\n",
    "print(\"percentile of SepalWidth(25)\", np.percentile(dfverinica['SepalWidthCm'],25.0))\n",
    "print(\"percentile of SepalWidth(50)\", np.percentile(dfverinica['SepalWidthCm'],50.0))\n",
    "print(\"percentile of SepalWidth(75)\", np.percentile(dfverinica['SepalWidthCm'],75.0))\n",
    "print(\"percentile of SepalWidth(100)\", np.percentile(dfverinica['SepalWidthCm'],100.0))\n",
    "\n",
    "\n",
    "#percentile of PetalLength for Virginica\n",
    "\n",
    "print(\"percentile of PetalLength(25)\", np.percentile(dfverinica['PetalLengthCm'],25.0))\n",
    "print(\"percentile of PetalLength(50)\", np.percentile(dfverinica['PetalLengthCm'],50.0))\n",
    "print(\"percentile of PetalLength(75)\", np.percentile(dfverinica['PetalLengthCm'],75.0))\n",
    "print(\"percentile of PetalLength(100)\", np.percentile(dfverinica['PetalLengthCm'],100.0))\n",
    "\n",
    "#percentile of PetalWidth for Virginica\n",
    "\n",
    "print(\"percentile of PetalWidth(25)\", np.percentile(dfverinica['PetalWidthCm'],25.0))\n",
    "print(\"percentile of PetalWidth(50)\", np.percentile(dfverinica['PetalWidthCm'],50.0))\n",
    "print(\"percentile of PetalWidth(75)\", np.percentile(dfverinica['PetalWidthCm'],75.0))\n",
    "print(\"percentile of PetalWidth(100)\", np.percentile(dfverinica['PetalWidthCm'],100.0))"
   ]
  },
  {
   "cell_type": "code",
   "execution_count": 30,
   "id": "6f652404",
   "metadata": {},
   "outputs": [
    {
     "data": {
      "text/plain": [
       "PetalLengthCm    0.173511\n",
       "PetalWidthCm     0.107210\n",
       "SepalLengthCm    0.352490\n",
       "SepalWidthCm     0.381024\n",
       "dtype: float64"
      ]
     },
     "execution_count": 30,
     "metadata": {},
     "output_type": "execute_result"
    }
   ],
   "source": [
    "# Standard Deviation for Setosa\n",
    "\n",
    "dfsetosa[['PetalLengthCm','PetalWidthCm', 'SepalLengthCm','SepalWidthCm']].std() "
   ]
  },
  {
   "cell_type": "code",
   "execution_count": 31,
   "id": "97198339",
   "metadata": {},
   "outputs": [
    {
     "data": {
      "text/plain": [
       "PetalLengthCm    0.469911\n",
       "PetalWidthCm     0.197753\n",
       "SepalLengthCm    0.516171\n",
       "SepalWidthCm     0.313798\n",
       "dtype: float64"
      ]
     },
     "execution_count": 31,
     "metadata": {},
     "output_type": "execute_result"
    }
   ],
   "source": [
    "# Standard Deviation for Virisicolor\n",
    "\n",
    "dfversicolor[['PetalLengthCm','PetalWidthCm', 'SepalLengthCm','SepalWidthCm']].std() "
   ]
  },
  {
   "cell_type": "code",
   "execution_count": 32,
   "id": "ebe9097c",
   "metadata": {},
   "outputs": [
    {
     "data": {
      "text/plain": [
       "PetalLengthCm    0.551895\n",
       "PetalWidthCm     0.274650\n",
       "SepalLengthCm    0.635880\n",
       "SepalWidthCm     0.322497\n",
       "dtype: float64"
      ]
     },
     "execution_count": 32,
     "metadata": {},
     "output_type": "execute_result"
    }
   ],
   "source": [
    "# Standard Deviation for Virginica\n",
    "\n",
    "dfverinica[['PetalLengthCm','PetalWidthCm', 'SepalLengthCm','SepalWidthCm']].std() "
   ]
  },
  {
   "cell_type": "code",
   "execution_count": 34,
   "id": "5a49e173",
   "metadata": {},
   "outputs": [
    {
     "data": {
      "text/plain": [
       "PetalLengthCm    0.030106\n",
       "PetalWidthCm     0.011494\n",
       "SepalLengthCm    0.124249\n",
       "SepalWidthCm     0.145180\n",
       "dtype: float64"
      ]
     },
     "execution_count": 34,
     "metadata": {},
     "output_type": "execute_result"
    }
   ],
   "source": [
    "# Variance for Setosa\n",
    "\n",
    "dfsetosa[['PetalLengthCm','PetalWidthCm', 'SepalLengthCm','SepalWidthCm']].var() "
   ]
  },
  {
   "cell_type": "code",
   "execution_count": 35,
   "id": "1e82c235",
   "metadata": {},
   "outputs": [
    {
     "data": {
      "text/plain": [
       "PetalLengthCm    0.220816\n",
       "PetalWidthCm     0.039106\n",
       "SepalLengthCm    0.266433\n",
       "SepalWidthCm     0.098469\n",
       "dtype: float64"
      ]
     },
     "execution_count": 35,
     "metadata": {},
     "output_type": "execute_result"
    }
   ],
   "source": [
    "# Variance for Virisicolor\n",
    "\n",
    "dfversicolor[['PetalLengthCm','PetalWidthCm', 'SepalLengthCm','SepalWidthCm']].var() "
   ]
  },
  {
   "cell_type": "code",
   "execution_count": 36,
   "id": "5c6f4adb",
   "metadata": {},
   "outputs": [
    {
     "data": {
      "text/plain": [
       "PetalLengthCm    0.304588\n",
       "PetalWidthCm     0.075433\n",
       "SepalLengthCm    0.404343\n",
       "SepalWidthCm     0.104004\n",
       "dtype: float64"
      ]
     },
     "execution_count": 36,
     "metadata": {},
     "output_type": "execute_result"
    }
   ],
   "source": [
    "# Variance for Virginica\n",
    "\n",
    "dfverinica[['PetalLengthCm','PetalWidthCm', 'SepalLengthCm','SepalWidthCm']].var() "
   ]
  },
  {
   "cell_type": "code",
   "execution_count": 37,
   "id": "4cbab824",
   "metadata": {},
   "outputs": [],
   "source": [
    "import seaborn as sns\n"
   ]
  },
  {
   "cell_type": "code",
   "execution_count": 46,
   "id": "7a04306c",
   "metadata": {},
   "outputs": [
    {
     "name": "stderr",
     "output_type": "stream",
     "text": [
      "/tmp/ipykernel_5019/1927553064.py:1: SettingWithCopyWarning: \n",
      "A value is trying to be set on a copy of a slice from a DataFrame\n",
      "\n",
      "See the caveats in the documentation: https://pandas.pydata.org/pandas-docs/stable/user_guide/indexing.html#returning-a-view-versus-a-copy\n",
      "  dfsetosa.drop(dfsetosa.columns[0], axis=1, inplace=True)\n"
     ]
    },
    {
     "data": {
      "text/html": [
       "<div>\n",
       "<style scoped>\n",
       "    .dataframe tbody tr th:only-of-type {\n",
       "        vertical-align: middle;\n",
       "    }\n",
       "\n",
       "    .dataframe tbody tr th {\n",
       "        vertical-align: top;\n",
       "    }\n",
       "\n",
       "    .dataframe thead th {\n",
       "        text-align: right;\n",
       "    }\n",
       "</style>\n",
       "<table border=\"1\" class=\"dataframe\">\n",
       "  <thead>\n",
       "    <tr style=\"text-align: right;\">\n",
       "      <th></th>\n",
       "      <th>SepalLengthCm</th>\n",
       "      <th>SepalWidthCm</th>\n",
       "      <th>PetalLengthCm</th>\n",
       "      <th>PetalWidthCm</th>\n",
       "      <th>Species</th>\n",
       "    </tr>\n",
       "  </thead>\n",
       "  <tbody>\n",
       "    <tr>\n",
       "      <th>0</th>\n",
       "      <td>5.1</td>\n",
       "      <td>3.5</td>\n",
       "      <td>1.4</td>\n",
       "      <td>0.2</td>\n",
       "      <td>Iris-setosa</td>\n",
       "    </tr>\n",
       "    <tr>\n",
       "      <th>1</th>\n",
       "      <td>4.9</td>\n",
       "      <td>3.0</td>\n",
       "      <td>1.4</td>\n",
       "      <td>0.2</td>\n",
       "      <td>Iris-setosa</td>\n",
       "    </tr>\n",
       "    <tr>\n",
       "      <th>2</th>\n",
       "      <td>4.7</td>\n",
       "      <td>3.2</td>\n",
       "      <td>1.3</td>\n",
       "      <td>0.2</td>\n",
       "      <td>Iris-setosa</td>\n",
       "    </tr>\n",
       "    <tr>\n",
       "      <th>3</th>\n",
       "      <td>4.6</td>\n",
       "      <td>3.1</td>\n",
       "      <td>1.5</td>\n",
       "      <td>0.2</td>\n",
       "      <td>Iris-setosa</td>\n",
       "    </tr>\n",
       "    <tr>\n",
       "      <th>4</th>\n",
       "      <td>5.0</td>\n",
       "      <td>3.6</td>\n",
       "      <td>1.4</td>\n",
       "      <td>0.2</td>\n",
       "      <td>Iris-setosa</td>\n",
       "    </tr>\n",
       "  </tbody>\n",
       "</table>\n",
       "</div>"
      ],
      "text/plain": [
       "   SepalLengthCm  SepalWidthCm  PetalLengthCm  PetalWidthCm      Species\n",
       "0            5.1           3.5            1.4           0.2  Iris-setosa\n",
       "1            4.9           3.0            1.4           0.2  Iris-setosa\n",
       "2            4.7           3.2            1.3           0.2  Iris-setosa\n",
       "3            4.6           3.1            1.5           0.2  Iris-setosa\n",
       "4            5.0           3.6            1.4           0.2  Iris-setosa"
      ]
     },
     "execution_count": 46,
     "metadata": {},
     "output_type": "execute_result"
    }
   ],
   "source": [
    "dfsetosa.drop(dfsetosa.columns[0], axis=1, inplace=True)\n",
    "# Dropping \n",
    "dfsetosa.head()"
   ]
  },
  {
   "cell_type": "code",
   "execution_count": 47,
   "id": "c39ed706",
   "metadata": {},
   "outputs": [
    {
     "data": {
      "text/plain": [
       "<AxesSubplot:>"
      ]
     },
     "execution_count": 47,
     "metadata": {},
     "output_type": "execute_result"
    },
    {
     "data": {
      "image/png": "[encoded data removed]",
      "text/plain": [
       "<Figure size 432x288 with 1 Axes>"
      ]
     },
     "metadata": {
      "needs_background": "light"
     },
     "output_type": "display_data"
    }
   ],
   "source": [
    "dfsetosa.boxplot()\n",
    "# Boxplot is used to compare different Data for each species"
   ]
  },
  {
   "cell_type": "code",
   "execution_count": 40,
   "id": "80de00a0",
   "metadata": {},
   "outputs": [
    {
     "name": "stderr",
     "output_type": "stream",
     "text": [
      "/tmp/ipykernel_5019/1536088720.py:2: SettingWithCopyWarning: \n",
      "A value is trying to be set on a copy of a slice from a DataFrame\n",
      "\n",
      "See the caveats in the documentation: https://pandas.pydata.org/pandas-docs/stable/user_guide/indexing.html#returning-a-view-versus-a-copy\n",
      "  dfversicolor.drop(dfversicolor.columns[0], axis=1, inplace=True)\n"
     ]
    },
    {
     "data": {
      "text/plain": [
       "<AxesSubplot:>"
      ]
     },
     "execution_count": 40,
     "metadata": {},
     "output_type": "execute_result"
    },
    {
     "data": {
      "image/png": "[encoded data removed]",
      "text/plain": [
       "<Figure size 432x288 with 1 Axes>"
      ]
     },
     "metadata": {
      "needs_background": "light"
     },
     "output_type": "display_data"
    }
   ],
   "source": [
    "# similarly for Virisicolor\n",
    "dfversicolor.drop(dfversicolor.columns[0], axis=1, inplace=True)\n",
    "dfversicolor.boxplot()"
   ]
  },
  {
   "cell_type": "code",
   "execution_count": 42,
   "id": "47931391",
   "metadata": {},
   "outputs": [
    {
     "name": "stderr",
     "output_type": "stream",
     "text": [
      "/tmp/ipykernel_5019/280184995.py:2: SettingWithCopyWarning: \n",
      "A value is trying to be set on a copy of a slice from a DataFrame\n",
      "\n",
      "See the caveats in the documentation: https://pandas.pydata.org/pandas-docs/stable/user_guide/indexing.html#returning-a-view-versus-a-copy\n",
      "  dfverinica.drop(dfverinica.columns[0], axis=1, inplace=True)\n"
     ]
    },
    {
     "data": {
      "text/plain": [
       "<AxesSubplot:>"
      ]
     },
     "execution_count": 42,
     "metadata": {},
     "output_type": "execute_result"
    },
    {
     "data": {
      "image/png": "[encoded data removed]",
      "text/plain": [
       "<Figure size 432x288 with 1 Axes>"
      ]
     },
     "metadata": {
      "needs_background": "light"
     },
     "output_type": "display_data"
    }
   ],
   "source": [
    "# similarly for Virginica\n",
    "dfverinica.drop(dfverinica.columns[0], axis=1, inplace=True)\n",
    "dfverinica.boxplot()"
   ]
  },
  {
   "cell_type": "code",
   "execution_count": null,
   "id": "7ef088d5",
   "metadata": {},
   "outputs": [],
   "source": []
  }
 ],
 "metadata": {
  "kernelspec": {
   "display_name": "Python 3",
   "language": "python",
   "name": "python3"
  },
  "language_info": {
   "codemirror_mode": {
    "name": "ipython",
    "version": 3
   },
   "file_extension": ".py",
   "mimetype": "text/x-python",
   "name": "python",
   "nbconvert_exporter": "python",
   "pygments_lexer": "ipython3",
   "version": "3.10.6"
  },
  "vscode": {
   "interpreter": {
    "hash": "31f2aee4e71d21fbe5cf8b01ff0e069b9275f58929596ceb00d14d90e3e16cd6"
   }
  }
 },
 "nbformat": 4,
 "nbformat_minor": 5
}
