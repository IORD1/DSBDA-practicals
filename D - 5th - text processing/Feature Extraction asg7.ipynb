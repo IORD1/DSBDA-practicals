{
 "cells": [
  {
   "cell_type": "code",
   "execution_count": 1,
   "id": "57aa132e",
   "metadata": {},
   "outputs": [],
   "source": [
    "from sklearn.feature_extraction.text import CountVectorizer"
   ]
  },
  {
   "cell_type": "code",
   "execution_count": 2,
   "id": "f5383d4e",
   "metadata": {},
   "outputs": [],
   "source": [
    "corpus = ['data science is fun and interesting','data science is fun','science is interesting']"
   ]
  },
  {
   "cell_type": "code",
   "execution_count": 3,
   "id": "d36055fb",
   "metadata": {},
   "outputs": [],
   "source": [
    "vectorizer = CountVectorizer()"
   ]
  },
  {
   "cell_type": "code",
   "execution_count": 6,
   "id": "43a11e7d",
   "metadata": {},
   "outputs": [
    {
     "name": "stdout",
     "output_type": "stream",
     "text": [
      "['and' 'data' 'fun' 'interesting' 'is' 'science']\n"
     ]
    }
   ],
   "source": [
    "x = vectorizer.fit_transform(corpus)\n",
    "print(vectorizer.get_feature_names_out())"
   ]
  },
  {
   "cell_type": "code",
   "execution_count": 7,
   "id": "b0b6c870",
   "metadata": {},
   "outputs": [
    {
     "name": "stdout",
     "output_type": "stream",
     "text": [
      "[[1 1 1 1 1 1]\n",
      " [0 1 1 0 1 1]\n",
      " [0 0 0 1 1 1]]\n"
     ]
    }
   ],
   "source": [
    "print(x.toarray())"
   ]
  },
  {
   "cell_type": "code",
   "execution_count": 14,
   "id": "0ace18e9",
   "metadata": {},
   "outputs": [],
   "source": [
    "from sklearn.feature_extraction.text import TfidfVectorizer"
   ]
  },
  {
   "cell_type": "code",
   "execution_count": 16,
   "id": "c1688a5a",
   "metadata": {},
   "outputs": [],
   "source": [
    "tfvectrorizer = TfidfVectorizer()"
   ]
  },
  {
   "cell_type": "code",
   "execution_count": 19,
   "id": "1cf78424",
   "metadata": {},
   "outputs": [
    {
     "name": "stdout",
     "output_type": "stream",
     "text": [
      "['and' 'data' 'fun' 'interesting' 'is' 'science']\n"
     ]
    }
   ],
   "source": [
    "y = tfvectrorizer.fit_transform(corpus)\n",
    "print(tfvectrorizer.get_feature_names_out())"
   ]
  },
  {
   "cell_type": "code",
   "execution_count": 21,
   "id": "2773e37f",
   "metadata": {},
   "outputs": [
    {
     "name": "stdout",
     "output_type": "stream",
     "text": [
      "[[0.53972482 0.41047463 0.41047463 0.41047463 0.31877017 0.31877017]\n",
      " [0.         0.55847784 0.55847784 0.         0.43370786 0.43370786]\n",
      " [0.         0.         0.         0.67325467 0.52284231 0.52284231]]\n"
     ]
    }
   ],
   "source": [
    "print(y.toarray())"
   ]
  },
  {
   "cell_type": "code",
   "execution_count": null,
   "id": "df2e4731",
   "metadata": {},
   "outputs": [],
   "source": []
  }
 ],
 "metadata": {
  "kernelspec": {
   "display_name": "Python 3 (ipykernel)",
   "language": "python",
   "name": "python3"
  },
  "language_info": {
   "codemirror_mode": {
    "name": "ipython",
    "version": 3
   },
   "file_extension": ".py",
   "mimetype": "text/x-python",
   "name": "python",
   "nbconvert_exporter": "python",
   "pygments_lexer": "ipython3",
   "version": "3.10.6"
  }
 },
 "nbformat": 4,
 "nbformat_minor": 5
}
