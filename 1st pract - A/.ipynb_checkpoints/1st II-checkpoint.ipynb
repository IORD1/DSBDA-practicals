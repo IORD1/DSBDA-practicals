{
 "cells": [
  {
   "cell_type": "code",
   "execution_count": 1,
   "id": "124af4a8",
   "metadata": {},
   "outputs": [],
   "source": [
    "import pandas as pd"
   ]
  },
  {
   "cell_type": "code",
   "execution_count": 3,
   "id": "9af62037",
   "metadata": {},
   "outputs": [
    {
     "name": "stdout",
     "output_type": "stream",
     "text": [
      "              Name            Team  Number Position  Age  Height  Weight  \\\n",
      "0    Avery Bradley  Boston Celtics       0       PG   25   2-Jun     180   \n",
      "1      Jae Crowder  Boston Celtics      99       SF   25   6-Jun     235   \n",
      "2     John Holland  Boston Celtics      30       SG   27   5-Jun     205   \n",
      "3      R.J. Hunter  Boston Celtics      28       SG   22   5-Jun     185   \n",
      "4    Jonas Jerebko  Boston Celtics       8       PF   29  10-Jun     231   \n",
      "..             ...             ...     ...      ...  ...     ...     ...   \n",
      "452     Trey Lyles       Utah Jazz      41       PF   20  10-Jun     234   \n",
      "453   Shelvin Mack       Utah Jazz       8       PG   26   3-Jun     203   \n",
      "454      Raul Neto       Utah Jazz      25       PG   24   1-Jun     179   \n",
      "455   Tibor Pleiss       Utah Jazz      21        C   26   3-Jul     256   \n",
      "456    Jeff Withey       Utah Jazz      24        C   26  Jul-00     231   \n",
      "\n",
      "               College     Salary  \n",
      "0                Texas  7730337.0  \n",
      "1            Marquette  6796117.0  \n",
      "2    Boston University        NaN  \n",
      "3        Georgia State  1148640.0  \n",
      "4                  NaN  5000000.0  \n",
      "..                 ...        ...  \n",
      "452           Kentucky  2239800.0  \n",
      "453             Butler  2433333.0  \n",
      "454                NaN   900000.0  \n",
      "455                NaN  2900000.0  \n",
      "456             Kansas   947276.0  \n",
      "\n",
      "[457 rows x 9 columns]\n"
     ]
    }
   ],
   "source": [
    "df = pd.read_csv('nba.csv')\n",
    "print(df)"
   ]
  },
  {
   "cell_type": "code",
   "execution_count": 6,
   "id": "3239cecc",
   "metadata": {},
   "outputs": [],
   "source": [
    "from sklearn import preprocessing"
   ]
  },
  {
   "cell_type": "code",
   "execution_count": 8,
   "id": "ad3c0c13",
   "metadata": {},
   "outputs": [
    {
     "data": {
      "text/plain": [
       "array(['PG', 'SF', 'SG', 'PF', 'C'], dtype=object)"
      ]
     },
     "execution_count": 8,
     "metadata": {},
     "output_type": "execute_result"
    }
   ],
   "source": [
    "df['Position'].unique()"
   ]
  },
  {
   "cell_type": "code",
   "execution_count": 15,
   "id": "74094dde",
   "metadata": {},
   "outputs": [
    {
     "name": "stdout",
     "output_type": "stream",
     "text": [
      "              Name            Team  Number Position  Age  Height  Weight  \\\n",
      "0    Avery Bradley  Boston Celtics       0       PG   25   2-Jun     180   \n",
      "1      Jae Crowder  Boston Celtics      99       SF   25   6-Jun     235   \n",
      "2     John Holland  Boston Celtics      30       SG   27   5-Jun     205   \n",
      "3      R.J. Hunter  Boston Celtics      28       SG   22   5-Jun     185   \n",
      "4    Jonas Jerebko  Boston Celtics       8       PF   29  10-Jun     231   \n",
      "..             ...             ...     ...      ...  ...     ...     ...   \n",
      "452     Trey Lyles       Utah Jazz      41       PF   20  10-Jun     234   \n",
      "453   Shelvin Mack       Utah Jazz       8       PG   26   3-Jun     203   \n",
      "454      Raul Neto       Utah Jazz      25       PG   24   1-Jun     179   \n",
      "455   Tibor Pleiss       Utah Jazz      21        C   26   3-Jul     256   \n",
      "456    Jeff Withey       Utah Jazz      24        C   26  Jul-00     231   \n",
      "\n",
      "               College     Salary  pos  \n",
      "0                Texas  7730337.0    2  \n",
      "1            Marquette  6796117.0    3  \n",
      "2    Boston University        NaN    4  \n",
      "3        Georgia State  1148640.0    4  \n",
      "4                  NaN  5000000.0    1  \n",
      "..                 ...        ...  ...  \n",
      "452           Kentucky  2239800.0    1  \n",
      "453             Butler  2433333.0    2  \n",
      "454                NaN   900000.0    2  \n",
      "455                NaN  2900000.0    0  \n",
      "456             Kansas   947276.0    0  \n",
      "\n",
      "[457 rows x 10 columns]\n"
     ]
    }
   ],
   "source": [
    "label_encode = preprocessing.LabelEncoder() \n",
    "df['pos'] = label_encode.fit_transform(df['Position']) #creates new column with fit_transformed position values\n",
    "print(df)"
   ]
  },
  {
   "cell_type": "code",
   "execution_count": 19,
   "id": "b022bff8",
   "metadata": {},
   "outputs": [
    {
     "name": "stdout",
     "output_type": "stream",
     "text": [
      "              Name            Team  Number Position  Age  Height  Weight  \\\n",
      "0    Avery Bradley  Boston Celtics       0        3   25   2-Jun     180   \n",
      "1      Jae Crowder  Boston Celtics      99       SF   25   6-Jun     235   \n",
      "2     John Holland  Boston Celtics      30        1   27   5-Jun     205   \n",
      "3      R.J. Hunter  Boston Celtics      28        1   22   5-Jun     185   \n",
      "4    Jonas Jerebko  Boston Celtics       8        2   29  10-Jun     231   \n",
      "..             ...             ...     ...      ...  ...     ...     ...   \n",
      "452     Trey Lyles       Utah Jazz      41        2   20  10-Jun     234   \n",
      "453   Shelvin Mack       Utah Jazz       8        3   26   3-Jun     203   \n",
      "454      Raul Neto       Utah Jazz      25        3   24   1-Jun     179   \n",
      "455   Tibor Pleiss       Utah Jazz      21        5   26   3-Jul     256   \n",
      "456    Jeff Withey       Utah Jazz      24        5   26  Jul-00     231   \n",
      "\n",
      "               College     Salary  pos  \n",
      "0                Texas  7730337.0    2  \n",
      "1            Marquette  6796117.0    3  \n",
      "2    Boston University        NaN    4  \n",
      "3        Georgia State  1148640.0    4  \n",
      "4                  NaN  5000000.0    1  \n",
      "..                 ...        ...  ...  \n",
      "452           Kentucky  2239800.0    1  \n",
      "453             Butler  2433333.0    2  \n",
      "454                NaN   900000.0    2  \n",
      "455                NaN  2900000.0    0  \n",
      "456             Kansas   947276.0    0  \n",
      "\n",
      "[457 rows x 10 columns]\n"
     ]
    }
   ],
   "source": [
    "df1 = df  #create duplicate data frame\n",
    "df1['Position'].replace(['SG','PF','PG','DF','C'],[1,2,3,4,5],inplace=True) #replace initial value with new values\n",
    "print(df1)"
   ]
  },
  {
   "cell_type": "markdown",
   "id": "96a34be5",
   "metadata": {},
   "source": [
    "# Quontitative to Categorical "
   ]
  },
  {
   "cell_type": "code",
   "execution_count": 21,
   "id": "58a3d78b",
   "metadata": {},
   "outputs": [
    {
     "name": "stdout",
     "output_type": "stream",
     "text": [
      "              Name            Team  Number Position  Age AgeGroup  Height  \\\n",
      "0    Avery Bradley  Boston Celtics       0        3   25        A   2-Jun   \n",
      "1      Jae Crowder  Boston Celtics      99       SF   25        A   6-Jun   \n",
      "2     John Holland  Boston Celtics      30        1   27        B   5-Jun   \n",
      "3      R.J. Hunter  Boston Celtics      28        1   22        A   5-Jun   \n",
      "4    Jonas Jerebko  Boston Celtics       8        2   29        B  10-Jun   \n",
      "..             ...             ...     ...      ...  ...      ...     ...   \n",
      "452     Trey Lyles       Utah Jazz      41        2   20        A  10-Jun   \n",
      "453   Shelvin Mack       Utah Jazz       8        3   26        B   3-Jun   \n",
      "454      Raul Neto       Utah Jazz      25        3   24        A   1-Jun   \n",
      "455   Tibor Pleiss       Utah Jazz      21        5   26        B   3-Jul   \n",
      "456    Jeff Withey       Utah Jazz      24        5   26        B  Jul-00   \n",
      "\n",
      "     Weight            College     Salary  pos  \n",
      "0       180              Texas  7730337.0    2  \n",
      "1       235          Marquette  6796117.0    3  \n",
      "2       205  Boston University        NaN    4  \n",
      "3       185      Georgia State  1148640.0    4  \n",
      "4       231                NaN  5000000.0    1  \n",
      "..      ...                ...        ...  ...  \n",
      "452     234           Kentucky  2239800.0    1  \n",
      "453     203             Butler  2433333.0    2  \n",
      "454     179                NaN   900000.0    2  \n",
      "455     256                NaN  2900000.0    0  \n",
      "456     231             Kansas   947276.0    0  \n",
      "\n",
      "[457 rows x 11 columns]\n"
     ]
    }
   ],
   "source": [
    "cat = pd.cut(df.Age, bins=[19,25,30,35,45],labels=['A','B','C','D'])\n",
    "df.insert(5,'AgeGroup',cat)\n",
    "print(df)"
   ]
  },
  {
   "cell_type": "code",
   "execution_count": null,
   "id": "b5d7ffd2",
   "metadata": {},
   "outputs": [],
   "source": []
  }
 ],
 "metadata": {
  "kernelspec": {
   "display_name": "Python 3 (ipykernel)",
   "language": "python",
   "name": "python3"
  },
  "language_info": {
   "codemirror_mode": {
    "name": "ipython",
    "version": 3
   },
   "file_extension": ".py",
   "mimetype": "text/x-python",
   "name": "python",
   "nbconvert_exporter": "python",
   "pygments_lexer": "ipython3",
   "version": "3.10.6"
  }
 },
 "nbformat": 4,
 "nbformat_minor": 5
}
