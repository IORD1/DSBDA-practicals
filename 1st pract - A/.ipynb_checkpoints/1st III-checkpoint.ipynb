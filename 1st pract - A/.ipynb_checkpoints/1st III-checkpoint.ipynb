{
 "cells": [
  {
   "cell_type": "code",
   "execution_count": 1,
   "id": "862539b4",
   "metadata": {},
   "outputs": [],
   "source": [
    "import pandas as pd"
   ]
  },
  {
   "cell_type": "code",
   "execution_count": 4,
   "id": "38814427",
   "metadata": {},
   "outputs": [
    {
     "name": "stdout",
     "output_type": "stream",
     "text": [
      "           Country   Alcohol   Deaths   Heart      Liver\n",
      "0        Australia       2.50      785  211.0  15.300000\n",
      "1          Austria       3.00      863  167.0  45.599998\n",
      "2   Belg. and Lux.       2.90      883  131.0  20.700001\n",
      "3           Canada       2.40      793    NaN  16.400000\n",
      "4          Denmark       2.90      971  220.0  23.900000\n",
      "5          Finland       0.80      970  297.0  19.000000\n",
      "6           France       9.10      751   11.0  37.900002\n",
      "7          Iceland      -0.80      743  211.0  11.200000\n",
      "8          Ireland       0.70     1000  300.0   6.500000\n",
      "9           Israel       0.60     -834  183.0  13.700000\n",
      "10           Italy      27.90      775  107.0  42.200001\n",
      "11           Japan       1.50      680   36.0  23.200001\n",
      "12     Netherlands       1.80      773  167.0   9.200000\n",
      "13     New Zealand       1.90      916  266.0   7.700000\n",
      "14          Norway       0.08      806  227.0  12.200000\n",
      "15           Spain       6.50      724    NaN        NaN\n",
      "16          Sweden       1.60      743  207.0  11.200000\n",
      "17     Switzerland       5.80      693  115.0  20.299999\n",
      "18              UK       1.30      941  285.0  10.300000\n",
      "19              US       1.20      926  199.0  22.100000\n",
      "20    West Germany       2.70      861  172.0  36.700001\n",
      "21          India        2.95      750  171.0  20.270000\n"
     ]
    }
   ],
   "source": [
    "df = pd.read_csv('A1_ALCHOHOL.csv')\n",
    "print(df)"
   ]
  },
  {
   "cell_type": "code",
   "execution_count": 11,
   "id": "5281f25d",
   "metadata": {},
   "outputs": [
    {
     "data": {
      "text/plain": [
       "Country      0\n",
       " Alcohol     0\n",
       "Deaths       0\n",
       "Heart        2\n",
       " Liver       1\n",
       "dtype: int64"
      ]
     },
     "execution_count": 11,
     "metadata": {},
     "output_type": "execute_result"
    }
   ],
   "source": [
    "df.isnull().sum()"
   ]
  },
  {
   "cell_type": "code",
   "execution_count": 15,
   "id": "6b48f5fa",
   "metadata": {},
   "outputs": [
    {
     "name": "stdout",
     "output_type": "stream",
     "text": [
      "           Country   Alcohol   Deaths   Heart      Liver\n",
      "0        Australia       2.50      785  211.0  15.300000\n",
      "1          Austria       3.00      863  167.0  45.599998\n",
      "2   Belg. and Lux.       2.90      883  131.0  20.700001\n",
      "3           Canada       2.40      793    NaN  16.400000\n",
      "4          Denmark       2.90      971  220.0  23.900000\n",
      "5          Finland       0.80      970  297.0  19.000000\n",
      "6           France       9.10      751   11.0  37.900002\n",
      "7          Iceland       0.80      743  211.0  11.200000\n",
      "8          Ireland       0.70     1000  300.0   6.500000\n",
      "9           Israel       0.60     -834  183.0  13.700000\n",
      "10           Italy      27.90      775  107.0  42.200001\n",
      "11           Japan       1.50      680   36.0  23.200001\n",
      "12     Netherlands       1.80      773  167.0   9.200000\n",
      "13     New Zealand       1.90      916  266.0   7.700000\n",
      "14          Norway       0.08      806  227.0  12.200000\n",
      "15           Spain       6.50      724    NaN        NaN\n",
      "16          Sweden       1.60      743  207.0  11.200000\n",
      "17     Switzerland       5.80      693  115.0  20.299999\n",
      "18              UK       1.30      941  285.0  10.300000\n",
      "19              US       1.20      926  199.0  22.100000\n",
      "20    West Germany       2.70      861  172.0  36.700001\n",
      "21          India        2.95      750  171.0  20.270000\n"
     ]
    }
   ],
   "source": [
    "df[' Alcohol '] = df[' Alcohol '].abs()\n",
    "print(df)"
   ]
  },
  {
   "cell_type": "code",
   "execution_count": 17,
   "id": "aabd1e6f",
   "metadata": {},
   "outputs": [
    {
     "data": {
      "text/plain": [
       "Index(['Country', ' Alcohol ', 'Deaths ', 'Heart', ' Liver'], dtype='object')"
      ]
     },
     "execution_count": 17,
     "metadata": {},
     "output_type": "execute_result"
    }
   ],
   "source": [
    "df.columns"
   ]
  },
  {
   "cell_type": "code",
   "execution_count": 21,
   "id": "676453ed",
   "metadata": {},
   "outputs": [],
   "source": [
    "df.columns = [c.strip() for c in df.columns]"
   ]
  },
  {
   "cell_type": "code",
   "execution_count": 22,
   "id": "c2146dac",
   "metadata": {},
   "outputs": [
    {
     "data": {
      "text/plain": [
       "Index(['Country', 'Alcohol', 'Deaths', 'Heart', 'Liver'], dtype='object')"
      ]
     },
     "execution_count": 22,
     "metadata": {},
     "output_type": "execute_result"
    }
   ],
   "source": [
    "df.columns"
   ]
  },
  {
   "cell_type": "code",
   "execution_count": 26,
   "id": "79bd370b",
   "metadata": {},
   "outputs": [
    {
     "name": "stdout",
     "output_type": "stream",
     "text": [
      "20.265238149428573\n",
      "           Country  Alcohol  Deaths  Heart      Liver\n",
      "0        Australia     2.50     785  211.0  15.300000\n",
      "1          Austria     3.00     863  167.0  45.599998\n",
      "2   Belg. and Lux.     2.90     883  131.0  20.700001\n",
      "3           Canada     2.40     793    NaN  16.400000\n",
      "4          Denmark     2.90     971  220.0  23.900000\n",
      "5          Finland     0.80     970  297.0  19.000000\n",
      "6           France     9.10     751   11.0  37.900002\n",
      "7          Iceland     0.80     743  211.0  11.200000\n",
      "8          Ireland     0.70    1000  300.0   6.500000\n",
      "9           Israel     0.60    -834  183.0  13.700000\n",
      "10           Italy    27.90     775  107.0  42.200001\n",
      "11           Japan     1.50     680   36.0  23.200001\n",
      "12     Netherlands     1.80     773  167.0   9.200000\n",
      "13     New Zealand     1.90     916  266.0   7.700000\n",
      "14          Norway     0.08     806  227.0  12.200000\n",
      "15           Spain     6.50     724    NaN  20.265238\n",
      "16          Sweden     1.60     743  207.0  11.200000\n",
      "17     Switzerland     5.80     693  115.0  20.299999\n",
      "18              UK     1.30     941  285.0  10.300000\n",
      "19              US     1.20     926  199.0  22.100000\n",
      "20    West Germany     2.70     861  172.0  36.700001\n",
      "21          India      2.95     750  171.0  20.270000\n"
     ]
    }
   ],
   "source": [
    "livermean = df['Liver'].mean()\n",
    "print(livermean)\n",
    "df['Liver'].fillna(livermean, inplace=True)\n",
    "print(df)"
   ]
  },
  {
   "cell_type": "code",
   "execution_count": 27,
   "id": "51e436e5",
   "metadata": {},
   "outputs": [
    {
     "name": "stdout",
     "output_type": "stream",
     "text": [
      "184.15\n"
     ]
    }
   ],
   "source": [
    "heartmean = df['Heart'].mean()\n",
    "print(heartmean)"
   ]
  },
  {
   "cell_type": "code",
   "execution_count": 28,
   "id": "d92d63f4",
   "metadata": {},
   "outputs": [
    {
     "name": "stdout",
     "output_type": "stream",
     "text": [
      "           Country  Alcohol  Deaths  Heart      Liver\n",
      "0        Australia     2.50     785  211.0  15.300000\n",
      "1          Austria     3.00     863  167.0  45.599998\n",
      "2   Belg. and Lux.     2.90     883  131.0  20.700001\n",
      "3           Canada     2.40     793    NaN  16.400000\n",
      "4          Denmark     2.90     971  220.0  23.900000\n",
      "5          Finland     0.80     970  297.0  19.000000\n",
      "6           France     9.10     751   11.0  37.900002\n",
      "7          Iceland     0.80     743  211.0  11.200000\n",
      "8          Ireland     0.70    1000  300.0   6.500000\n",
      "9           Israel     0.60    -834  183.0  13.700000\n",
      "10           Italy     2.00     775  107.0  42.200001\n",
      "11           Japan     1.50     680   36.0  23.200001\n",
      "12     Netherlands     1.80     773  167.0   9.200000\n",
      "13     New Zealand     1.90     916  266.0   7.700000\n",
      "14          Norway     0.08     806  227.0  12.200000\n",
      "15           Spain     6.50     724    NaN  20.265238\n",
      "16          Sweden     1.60     743  207.0  11.200000\n",
      "17     Switzerland     5.80     693  115.0  20.299999\n",
      "18              UK     1.30     941  285.0  10.300000\n",
      "19              US     1.20     926  199.0  22.100000\n",
      "20    West Germany     2.70     861  172.0  36.700001\n",
      "21          India      2.95     750  171.0  20.270000\n"
     ]
    }
   ],
   "source": [
    "df.loc[10, 'Alcohol'] =  2\n",
    "print(df)"
   ]
  },
  {
   "cell_type": "code",
   "execution_count": 29,
   "id": "d3516a21",
   "metadata": {},
   "outputs": [],
   "source": [
    "df['Deaths'] = df['Deaths'].abs()"
   ]
  },
  {
   "cell_type": "code",
   "execution_count": 30,
   "id": "e37529e3",
   "metadata": {},
   "outputs": [
    {
     "name": "stdout",
     "output_type": "stream",
     "text": [
      "           Country  Alcohol  Deaths  Heart      Liver\n",
      "0        Australia     2.50     785  211.0  15.300000\n",
      "1          Austria     3.00     863  167.0  45.599998\n",
      "2   Belg. and Lux.     2.90     883  131.0  20.700001\n",
      "3           Canada     2.40     793    NaN  16.400000\n",
      "4          Denmark     2.90     971  220.0  23.900000\n",
      "5          Finland     0.80     970  297.0  19.000000\n",
      "6           France     9.10     751   11.0  37.900002\n",
      "7          Iceland     0.80     743  211.0  11.200000\n",
      "8          Ireland     0.70    1000  300.0   6.500000\n",
      "9           Israel     0.60     834  183.0  13.700000\n",
      "10           Italy     2.00     775  107.0  42.200001\n",
      "11           Japan     1.50     680   36.0  23.200001\n",
      "12     Netherlands     1.80     773  167.0   9.200000\n",
      "13     New Zealand     1.90     916  266.0   7.700000\n",
      "14          Norway     0.08     806  227.0  12.200000\n",
      "15           Spain     6.50     724    NaN  20.265238\n",
      "16          Sweden     1.60     743  207.0  11.200000\n",
      "17     Switzerland     5.80     693  115.0  20.299999\n",
      "18              UK     1.30     941  285.0  10.300000\n",
      "19              US     1.20     926  199.0  22.100000\n",
      "20    West Germany     2.70     861  172.0  36.700001\n",
      "21          India      2.95     750  171.0  20.270000\n"
     ]
    }
   ],
   "source": [
    "print(df)"
   ]
  },
  {
   "cell_type": "code",
   "execution_count": null,
   "id": "7570ab64",
   "metadata": {},
   "outputs": [],
   "source": []
  }
 ],
 "metadata": {
  "kernelspec": {
   "display_name": "Python 3 (ipykernel)",
   "language": "python",
   "name": "python3"
  },
  "language_info": {
   "codemirror_mode": {
    "name": "ipython",
    "version": 3
   },
   "file_extension": ".py",
   "mimetype": "text/x-python",
   "name": "python",
   "nbconvert_exporter": "python",
   "pygments_lexer": "ipython3",
   "version": "3.10.6"
  }
 },
 "nbformat": 4,
 "nbformat_minor": 5
}
